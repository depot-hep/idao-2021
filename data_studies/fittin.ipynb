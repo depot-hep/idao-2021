{
 "cells": [
  {
   "cell_type": "code",
   "execution_count": 1,
   "metadata": {},
   "outputs": [
    {
     "data": {
      "text/plain": [
       "'0.5.6'"
      ]
     },
     "execution_count": 1,
     "metadata": {},
     "output_type": "execute_result"
    }
   ],
   "source": [
    "import numpy as np\n",
    "from matplotlib import pyplot as plt\n",
    "from PIL import Image\n",
    "\n",
    "import mplhep\n",
    "import zfit\n",
    "\n",
    "mplhep.set_style('CMS')\n",
    "zfit.__version__"
   ]
  },
  {
   "cell_type": "markdown",
   "metadata": {},
   "source": [
    "### load image"
   ]
  },
  {
   "cell_type": "code",
   "execution_count": 2,
   "metadata": {},
   "outputs": [],
   "source": [
    "im = Image.open('images/-0.5065000057220459__CYGNO_60_40_He_NR_20_keV_930V_30cm_SRIM_IDAO_iso_crop_hist_pic_run3_ev269.png')"
   ]
  },
  {
   "cell_type": "code",
   "execution_count": 3,
   "metadata": {},
   "outputs": [],
   "source": [
    "ima = np.array(im)"
   ]
  },
  {
   "cell_type": "code",
   "execution_count": 4,
   "metadata": {},
   "outputs": [],
   "source": [
    "step = 50\n",
    "left, right = round(ima.shape[0]/2 - step), round(ima.shape[0]/2 + step)\n",
    "ima_x = np.sum(ima[left:right, left:right], axis=0)"
   ]
  },
  {
   "cell_type": "code",
   "execution_count": 5,
   "metadata": {},
   "outputs": [
    {
     "data": {
      "image/png": "[encoded data removed]",
      "text/plain": [
       "<Figure size 720x720 with 1 Axes>"
      ]
     },
     "metadata": {
      "needs_background": "light"
     },
     "output_type": "display_data"
    }
   ],
   "source": [
    "plt.bar(range(left, right), ima_x)\n",
    "plt.show()"
   ]
  },
  {
   "cell_type": "markdown",
   "metadata": {},
   "source": [
    "### model"
   ]
  },
  {
   "cell_type": "code",
   "execution_count": 6,
   "metadata": {},
   "outputs": [],
   "source": [
    "# create space\n",
    "obs = zfit.Space(\"x\", limits=(left, right))\n",
    "\n",
    "# parameters\n",
    "mu = zfit.Parameter(\"mu\", (left-right)/2, left, right)\n",
    "sigma = zfit.Parameter(\"sigma\", 10., 0.1, 50)\n",
    "# lambd = zfit.Parameter(\"lambda\", -0.01, -1, -0.000001)\n",
    "\n",
    "# model building, pdf creation\n",
    "gauss = zfit.pdf.Gauss(mu=mu, sigma=sigma, obs=obs)\n",
    "# exponential = zfit.pdf.Exponential(lambd, obs=obs)\n",
    "uniform = zfit.pdf.Uniform(left, right, obs) \n",
    "\n",
    "# n_bkg = zfit.Parameter('n_bkg', sum(ima_x))\n",
    "# n_sig = zfit.Parameter('n_sig', 1000)\n",
    "# gauss_extended = gauss.create_extended(n_sig)\n",
    "# exp_extended = exponential.create_extended(n_bkg)\n",
    "# uni_extended = uniform.create_extended(n_bkg)\n",
    "# model = zfit.pdf.SumPDF([gauss_extended, uni_extended])\n",
    "\n",
    "frac = zfit.Parameter(\"fraction\", 0.3, 0, 1)\n",
    "model = zfit.pdf.SumPDF([gauss, uniform], fracs=frac)"
   ]
  },
  {
   "cell_type": "markdown",
   "metadata": {},
   "source": [
    "### data"
   ]
  },
  {
   "cell_type": "code",
   "execution_count": 17,
   "metadata": {},
   "outputs": [],
   "source": [
    "take_fraction = 0.2\n",
    "\n",
    "x_edges = np.array(range(left, right + 1))\n",
    "x_coord = (x_edges[:-1] + x_edges[1:])/2\n",
    "x_samples = np.random.choice(x_coord, size=int(take_fraction*ima_x.sum()), p=ima_x/ima_x.sum())"
   ]
  },
  {
   "cell_type": "code",
   "execution_count": 18,
   "metadata": {},
   "outputs": [],
   "source": [
    "data = zfit.data.Data.from_numpy(obs=obs, array=x_samples)"
   ]
  },
  {
   "cell_type": "code",
   "execution_count": 19,
   "metadata": {},
   "outputs": [],
   "source": [
    "# # data\n",
    "# n_sample = 10000\n",
    "\n",
    "# data = model.create_sampler(n=n_sample)\n",
    "# data.resample()"
   ]
  },
  {
   "cell_type": "markdown",
   "metadata": {},
   "source": [
    "### fit"
   ]
  },
  {
   "cell_type": "code",
   "execution_count": 20,
   "metadata": {},
   "outputs": [],
   "source": [
    "# # set the values to a start value for the fit\n",
    "mu.set_value(left+(right - left)/2)\n",
    "sigma.set_value(5.)\n",
    "frac.set_value(0.01)\n",
    "# lambd.set_value(-0.0001)\n",
    "# n_sig.set_value(0.01*sum(ima_x))\n",
    "# n_bkg.set_value(sum(ima_x))\n",
    "\n",
    "# create NLL\n",
    "# nll = zfit.loss.ExtendedUnbinnedNLL(model=model, data=data)\n",
    "nll = zfit.loss.UnbinnedNLL(model=model, data=data)\n",
    "\n",
    "# create a minimizer\n",
    "minimizer = zfit.minimize.Minuit(verbosity=7)"
   ]
  },
  {
   "cell_type": "code",
   "execution_count": 21,
   "metadata": {},
   "outputs": [
    {
     "name": "stderr",
     "output_type": "stream",
     "text": [
      "/nfs/dust/cms/user/filatovo/miniconda3/envs/tau-dev/lib/python3.8/site-packages/zfit/minimizers/minimizer_minuit.py:165: IMinuitWarning: Setting print_level >=3 has the side-effect of setting the level globally for all Minuit instances\n",
      "  minimizer = iminuit.Minuit.from_array_func(fcn=func, start=start_values,\n",
      "/nfs/dust/cms/user/filatovo/miniconda3/envs/tau-dev/lib/python3.8/site-packages/zfit/util/cache.py:283: VisibleDeprecationWarning: Creating an ndarray from ragged nested sequences (which is a list-or-tuple of lists-or-tuples-or ndarrays with different lengths or shapes) is deprecated. If you meant to do this, you must specify 'dtype=object' when creating the ndarray\n",
      "  return all(np.equal(self.immutable_representation, other.immutable_representation))\n"
     ]
    },
    {
     "name": "stdout",
     "output_type": "stream",
     "text": [
      "┌──────────────────────────────────┬──────────────────────────────────────┐\n",
      "│ FCN = 9.356e+05                  │         Nfcn = 63 (63 total)         │\n",
      "│ EDM = 0.000664 (Goal: 0.001)     │                                      │\n",
      "├───────────────┬──────────────────┼──────────────────────────────────────┤\n",
      "│ Valid Minimum │ Valid Parameters │        No Parameters at limit        │\n",
      "├───────────────┴──────────────────┼──────────────────────────────────────┤\n",
      "│ Below EDM threshold (goal x 10)  │           Below call limit           │\n",
      "├───────────────┬──────────────────┼───────────┬─────────────┬────────────┤\n",
      "│   Hesse ok    │  Has Covariance  │ Accurate  │  Pos. def.  │ Not forced │\n",
      "└───────────────┴──────────────────┴───────────┴─────────────┴────────────┘\n",
      "name         value    at limit\n",
      "--------  --------  ----------\n",
      "fraction  0.009446       False\n",
      "mu           288.4       False\n",
      "sigma        4.435       False\n",
      "True\n",
      "CPU times: user 3.39 s, sys: 724 ms, total: 4.11 s\n",
      "Wall time: 626 ms\n"
     ]
    }
   ],
   "source": [
    "%%time\n",
    "result = minimizer.minimize(nll)\n",
    "# result = minimizer.minimize(nll)\n",
    "# result = minimizer.minimize(nll)\n",
    "print(result.params)\n",
    "# # do the error calculations, here with hesse, than with minos\n",
    "# param_hesse = result.hesse()\n",
    "# param_errors, _ = result.errors()  # this returns a new FitResult if a new minimum was found\n",
    "print(result.valid)  # check if the result is still valid"
   ]
  },
  {
   "cell_type": "markdown",
   "metadata": {},
   "source": [
    "### plot"
   ]
  },
  {
   "cell_type": "code",
   "execution_count": 22,
   "metadata": {},
   "outputs": [],
   "source": [
    "x = np.linspace(left, right, 1000)\n",
    "n_bins = 50\n",
    "n_sample = len(x_samples)\n",
    "plot_scaling = n_sample / n_bins * obs.area()"
   ]
  },
  {
   "cell_type": "code",
   "execution_count": 23,
   "metadata": {},
   "outputs": [
    {
     "data": {
      "image/png": "[encoded data removed]",
      "text/plain": [
       "<Figure size 720x720 with 1 Axes>"
      ]
     },
     "metadata": {
      "needs_background": "light"
     },
     "output_type": "display_data"
    }
   ],
   "source": [
    "plt.figure()\n",
    "\n",
    "data_np = data[:, 0].numpy()\n",
    "y = model.pdf(x).numpy()\n",
    "y_gauss = (gauss.pdf(x)*frac).numpy()\n",
    "# y_bkgr = (exponential.pdf(x) * n_bkg).numpy()\n",
    "y_bkgr = (uniform.pdf(x)*(1-frac)).numpy()\n",
    "\n",
    "plt.plot(x, y*plot_scaling, label=\"Sum - Model\")\n",
    "plt.plot(x, y_gauss*plot_scaling, label=\"Gauss - Signal\")\n",
    "plt.plot(x, y_bkgr*plot_scaling, label=\"Background\")\n",
    "# plt.plot(x, y_exp*plot_scaling, label=\"Exp - Background\")\n",
    "mplhep.histplot(np.histogram(data_np, bins=n_bins), yerr=True, color='black', histtype='errorbar',\n",
    "                markersize=17, capsize=2.5,\n",
    "                markeredgewidth=1.5, zorder=1,\n",
    "                elinewidth=1.5,\n",
    "                )\n",
    "plt.ylabel(\"Counts\")\n",
    "plt.xlabel(\"Physical observable\")\n",
    "plt.legend()\n",
    "\n",
    "plt.show()"
   ]
  },
  {
   "cell_type": "code",
   "execution_count": null,
   "metadata": {},
   "outputs": [],
   "source": []
  }
 ],
 "metadata": {
  "kernelspec": {
   "display_name": "tau-dev",
   "language": "python",
   "name": "tau-dev"
  },
  "language_info": {
   "codemirror_mode": {
    "name": "ipython",
    "version": 3
   },
   "file_extension": ".py",
   "mimetype": "text/x-python",
   "name": "python",
   "nbconvert_exporter": "python",
   "pygments_lexer": "ipython3",
   "version": "3.8.8"
  }
 },
 "nbformat": 4,
 "nbformat_minor": 4
}
