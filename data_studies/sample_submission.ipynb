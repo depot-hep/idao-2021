{
 "cells": [
  {
   "cell_type": "code",
   "execution_count": 320,
   "metadata": {},
   "outputs": [],
   "source": [
    "import pandas as pd\n",
    "import numpy as np\n",
    "import matplotlib.pyplot as plt\n",
    "\n",
    "# models for regression\n",
    "from sklearn import tree\n",
    "from sklearn.ensemble import RandomForestRegressor\n",
    "from sklearn import neighbors\n",
    "from sklearn import linear_model\n",
    "from sklearn import svm\n",
    "from sklearn.neural_network import MLPRegressor\n",
    "from sklearn.ensemble import AdaBoostRegressor\n",
    "\n",
    "from sklearn.preprocessing import StandardScaler\n",
    "from sklearn.linear_model import LogisticRegression\n",
    "from sklearn.metrics import roc_auc_score, accuracy_score\n",
    "from sklearn.pipeline import make_pipeline\n",
    "from sklearn.model_selection import cross_validate\n",
    "from sklearn.model_selection import GridSearchCV\n",
    "from sklearn.discriminant_analysis import LinearDiscriminantAnalysis\n",
    "from sklearn.tree import DecisionTreeClassifier\n",
    "from sklearn.ensemble import RandomForestClassifier\n",
    "from sklearn.neural_network import MLPClassifier\n",
    "from sklearn.neighbors import KNeighborsClassifier\n",
    "from sklearn.ensemble import AdaBoostClassifier\n",
    "from sklearn.model_selection import KFold"
   ]
  },
  {
   "cell_type": "code",
   "execution_count": 2,
   "metadata": {},
   "outputs": [],
   "source": [
    "data_path = 'csv_data/'\n",
    "data_folders = ['NR', 'ER', 'public_test', 'private_test']\n",
    "\n",
    "df_NR = pd.read_csv(data_path + 'df_' + data_folders[0] +'.csv', index_col='Unnamed: 0')\n",
    "df_ER = pd.read_csv(data_path + 'df_' + data_folders[1] +'.csv', index_col='Unnamed: 0')\n",
    "df_public_test = pd.read_csv(data_path + 'df_' + data_folders[2] +'.csv', index_col='Unnamed: 0')\n",
    "df_private_test = pd.read_csv(data_path + 'df_' + data_folders[3] +'.csv', index_col='Unnamed: 0')"
   ]
  },
  {
   "cell_type": "code",
   "execution_count": 60,
   "metadata": {},
   "outputs": [
    {
     "data": {
      "text/plain": [
       "Index(['N_error_x', 'N_error_y', 'N_x', 'N_y', 'bkgr_count_x', 'bkgr_count_y',\n",
       "       'chi2_pvalue_x', 'chi2_pvalue_y', 'chi2_x', 'chi2_y', 'dfr', 'dmu',\n",
       "       'dsigma', 'edm_x', 'edm_y', 'event_ID', 'event_angle', 'event_class',\n",
       "       'event_energy', 'fr_error_x', 'fr_error_y', 'fr_x', 'fr_y', 'fval_x',\n",
       "       'fval_y', 'has_accurate_covar_x', 'has_accurate_covar_y',\n",
       "       'has_covariance_x', 'has_covariance_y', 'has_made_posdef_covar_x',\n",
       "       'has_made_posdef_covar_y', 'has_parameters_at_limit_x',\n",
       "       'has_parameters_at_limit_y', 'has_posdef_covar_x', 'has_posdef_covar_y',\n",
       "       'has_reached_call_limit_x', 'has_reached_call_limit_y',\n",
       "       'has_valid_parameters_x', 'has_valid_parameters_y', 'hesse_failed_x',\n",
       "       'hesse_failed_y', 'image_name', 'is_above_max_edm_x',\n",
       "       'is_above_max_edm_y', 'is_valid_x', 'is_valid_y', 'mu_error_x',\n",
       "       'mu_error_y', 'mu_x', 'mu_y', 'n_excess_bins_x', 'n_excess_bins_y',\n",
       "       'nfcn_total_x', 'nfcn_total_y', 'nfcn_x', 'nfcn_y', 'ngrad_total_x',\n",
       "       'ngrad_total_y', 'ngrad_x', 'ngrad_y', 'sig_count_x', 'sig_count_y',\n",
       "       'sig_density_x', 'sig_density_y', 'sigma_error_x', 'sigma_error_y',\n",
       "       'sigma_x', 'sigma_y', 'tolerance_x', 'tolerance_y', 'up_x', 'up_y'],\n",
       "      dtype='object')"
      ]
     },
     "execution_count": 60,
     "metadata": {},
     "output_type": "execute_result"
    }
   ],
   "source": [
    "df_NR.columns"
   ]
  },
  {
   "cell_type": "code",
   "execution_count": 210,
   "metadata": {},
   "outputs": [],
   "source": [
    "# cols = np.append(np.array(range(15)), np.array(range(19, 24)))\n",
    "# corr_NR = [np.corrcoef(df_NR[df_NR.columns[i]].values, df_NR['event_energy'].values)[0][1] for i in cols]\n",
    "# corr_ER = [np.corrcoef(df_ER[df_ER.columns[i]].values, df_ER['event_energy'].values)[0][1] for i in cols]"
   ]
  },
  {
   "cell_type": "code",
   "execution_count": 66,
   "metadata": {},
   "outputs": [],
   "source": [
    "feat_list = ['N_error_x', 'N_error_y', 'N_x', 'N_y', 'bkgr_count_x', 'bkgr_count_y',\n",
    "       'chi2_pvalue_x', 'chi2_pvalue_y', 'chi2_x', 'chi2_y', 'dfr', 'dmu',\n",
    "       'dsigma', 'edm_x', 'edm_y', 'fr_error_x', 'fr_error_y', 'fr_x', 'fr_y', 'fval_x',\n",
    "       'fval_y']\n",
    "# NR_label = 0\n",
    "# ER_label = 1"
   ]
  },
  {
   "cell_type": "code",
   "execution_count": 251,
   "metadata": {},
   "outputs": [],
   "source": [
    "df_train = df_NR[feat_list]\n",
    "df_train = df_train.append(df_ER[feat_list], ignore_index=True)\n",
    "\n",
    "corr_th = 0.15\n",
    "\n",
    "corr_reg = [np.corrcoef(df_train[df_train.columns[i]].values, y_train_energies)[0][1] for i in range(21)]\n",
    "reg_col = np.array(df_train.columns[np.argwhere(np.abs(corr_reg) > corr_th)])\n",
    "reg_cols = [reg_col[i][0] for i in range(len(reg_col))]\n",
    "df_train_reg = df_train[reg_cols]\n",
    "\n",
    "corr_cl = [np.corrcoef(df_train[df_train.columns[i]].values, y_train_classes)[0][1] for i in range(21)] \n",
    "cl_col = np.array(df_train.columns[np.argwhere(np.abs(corr_cl) > corr_th)])\n",
    "cl_cols = [cl_col[i][0] for i in range(len(cl_col))]\n",
    "df_train_cl = df_train[cl_cols]\n",
    "\n",
    "y_train_energies = np.append(np.array(df_NR['event_energy'].values), np.array(df_ER['event_energy'].values))\n",
    "y_train_classes = np.array([i>len(df_NR) for i in range(len(df_NR) + len(df_ER))], dtype=np.int)"
   ]
  },
  {
   "cell_type": "code",
   "execution_count": 252,
   "metadata": {},
   "outputs": [],
   "source": [
    "df_test = df_public_test[feat_list]\n",
    "df_test = df_test.append(df_private_test[feat_list], ignore_index=True)\n",
    "\n",
    "df_test_reg = df_test[reg_cols]\n",
    "df_test_cl = df_test[cl_cols]"
   ]
  },
  {
   "cell_type": "markdown",
   "metadata": {},
   "source": [
    "## regression"
   ]
  },
  {
   "cell_type": "markdown",
   "metadata": {},
   "source": [
    "#### comparing various models with default parameters:"
   ]
  },
  {
   "cell_type": "code",
   "execution_count": 370,
   "metadata": {},
   "outputs": [],
   "source": [
    "models = {'Ridge': linear_model.Ridge(),\n",
    "          'RidgeStS': make_pipeline(StandardScaler(), linear_model.Ridge()),\n",
    "          'kNN': neighbors.KNeighborsRegressor(weights='uniform'), \n",
    "          'BayesianRidge': linear_model.BayesianRidge(),\n",
    "          'DT' : tree.DecisionTreeRegressor(criterion=\"mse\"), # mae worked too long\n",
    "          'RFT' : RandomForestRegressor(criterion=\"mse\"),\n",
    "          'SVR': svm.SVR(),\n",
    "          'MLPRegressor': MLPRegressor(),\n",
    "          'AdaBoost': AdaBoostRegressor()\n",
    "         }"
   ]
  },
  {
   "cell_type": "markdown",
   "metadata": {},
   "source": [
    "##### train on many features"
   ]
  },
  {
   "cell_type": "code",
   "execution_count": 371,
   "metadata": {},
   "outputs": [
    {
     "name": "stderr",
     "output_type": "stream",
     "text": [
      "/trinity/shared/opt/python-3.6.8/lib/python3.6/site-packages/sklearn/linear_model/_ridge.py:148: LinAlgWarning: Ill-conditioned matrix (rcond=3.26817e-18): result may not be accurate.\n",
      "  overwrite_a=True).T\n",
      "/trinity/shared/opt/python-3.6.8/lib/python3.6/site-packages/sklearn/linear_model/_ridge.py:148: LinAlgWarning: Ill-conditioned matrix (rcond=3.28559e-18): result may not be accurate.\n",
      "  overwrite_a=True).T\n",
      "/trinity/shared/opt/python-3.6.8/lib/python3.6/site-packages/sklearn/linear_model/_ridge.py:148: LinAlgWarning: Ill-conditioned matrix (rcond=3.29237e-18): result may not be accurate.\n",
      "  overwrite_a=True).T\n",
      "/trinity/shared/opt/python-3.6.8/lib/python3.6/site-packages/sklearn/linear_model/_ridge.py:148: LinAlgWarning: Ill-conditioned matrix (rcond=3.24551e-18): result may not be accurate.\n",
      "  overwrite_a=True).T\n"
     ]
    },
    {
     "name": "stdout",
     "output_type": "stream",
     "text": [
      "Ridge feat-s : -772.20 +- 1530.58\n",
      "RidgeStS feat-s : -759.43 +- 1505.07\n",
      "kNN feat-s : -0.65 +- 0.05\n",
      "BayesianRidge feat-s : -766.32 +- 1518.83\n",
      "DT feat-s : -0.29 +- 0.07\n",
      "RFT feat-s : -0.33 +- 0.05\n",
      "SVR feat-s : -8.77 +- 1.31\n",
      "MLPRegressor feat-s : -39531.38 +- 58409.39\n",
      "AdaBoost feat-s : -1.95 +- 0.54\n"
     ]
    }
   ],
   "source": [
    "for model_name, model in models.items():\n",
    "    sc = cross_validate(model, df_train.values, y_train_energies, scoring='neg_mean_absolute_error', cv=5)\n",
    "    print(model_name + ' feat-s : {:.2f} +- {:.2f}'.format(np.mean(sc['test_score']), np.std(sc['test_score'])))"
   ]
  },
  {
   "cell_type": "markdown",
   "metadata": {},
   "source": [
    "##### train on the selected subset of features:"
   ]
  },
  {
   "cell_type": "code",
   "execution_count": 372,
   "metadata": {},
   "outputs": [
    {
     "name": "stdout",
     "output_type": "stream",
     "text": [
      "Ridge feat-s : -7.38 +- 0.29\n",
      "RidgeStS feat-s : -7.38 +- 0.29\n",
      "kNN feat-s : -6.54 +- 0.84\n",
      "BayesianRidge feat-s : -7.38 +- 0.29\n",
      "DT feat-s : -5.70 +- 1.03\n",
      "RFT feat-s : -4.77 +- 1.44\n",
      "SVR feat-s : -8.76 +- 1.24\n",
      "MLPRegressor feat-s : -91.71 +- 54.96\n",
      "AdaBoost feat-s : -5.88 +- 1.60\n"
     ]
    }
   ],
   "source": [
    "for model_name, model in models.items():\n",
    "    sc = cross_validate(model, df_train_reg.values, y_train_energies, scoring='neg_mean_absolute_error', cv=5)\n",
    "    print(model_name + ' feat-s : {:.2f} +- {:.2f}'.format(np.mean(sc['test_score']), np.std(sc['test_score'])))"
   ]
  },
  {
   "cell_type": "markdown",
   "metadata": {},
   "source": [
    "#### GridSearch optimal parameters:"
   ]
  },
  {
   "cell_type": "code",
   "execution_count": 333,
   "metadata": {},
   "outputs": [
    {
     "name": "stdout",
     "output_type": "stream",
     "text": [
      "Ridge(alpha=0.0001, copy_X=True, fit_intercept=True, max_iter=None,\n",
      "      normalize=False, random_state=None, solver='auto', tol=0.001)\n"
     ]
    }
   ],
   "source": [
    "parameters = {'alpha': np.logspace(-4, 3, num=9)}\n",
    "model = linear_model.Ridge()\n",
    "reg = GridSearchCV(model, parameters, scoring='neg_mean_absolute_error')\n",
    "reg.fit(df_train_reg.values, y_train_energies)\n",
    "print(reg.best_estimator_)"
   ]
  },
  {
   "cell_type": "code",
   "execution_count": 373,
   "metadata": {},
   "outputs": [
    {
     "name": "stdout",
     "output_type": "stream",
     "text": [
      "KNeighborsRegressor(algorithm='auto', leaf_size=30, metric='minkowski',\n",
      "                    metric_params=None, n_jobs=None, n_neighbors=1, p=2,\n",
      "                    weights='uniform')\n"
     ]
    }
   ],
   "source": [
    "parameters = {'n_neighbors': [1,2,5,10,30,50,100]}\n",
    "model = neighbors.KNeighborsRegressor(weights='uniform')\n",
    "reg = GridSearchCV(model, parameters, scoring='neg_mean_absolute_error')\n",
    "reg.fit(df_train.values, y_train_energies)\n",
    "print(reg.best_estimator_)"
   ]
  },
  {
   "cell_type": "code",
   "execution_count": 374,
   "metadata": {},
   "outputs": [
    {
     "name": "stdout",
     "output_type": "stream",
     "text": [
      "BayesianRidge(alpha_1=1e-06, alpha_2=1e-06, alpha_init=None,\n",
      "              compute_score=False, copy_X=True, fit_intercept=True,\n",
      "              lambda_1=1e-06, lambda_2=1e-06, lambda_init=None, n_iter=300,\n",
      "              normalize=False, tol=0.001, verbose=False)\n"
     ]
    }
   ],
   "source": [
    "parameters = {}\n",
    "model = linear_model.BayesianRidge()\n",
    "reg = GridSearchCV(model, parameters, scoring='neg_mean_absolute_error')\n",
    "reg.fit(df_train_reg.values, y_train_energies)\n",
    "print(reg.best_estimator_)"
   ]
  },
  {
   "cell_type": "code",
   "execution_count": 375,
   "metadata": {},
   "outputs": [
    {
     "name": "stdout",
     "output_type": "stream",
     "text": [
      "DecisionTreeRegressor(ccp_alpha=0.0, criterion='mse', max_depth=50,\n",
      "                      max_features=None, max_leaf_nodes=None,\n",
      "                      min_impurity_decrease=0.0, min_impurity_split=None,\n",
      "                      min_samples_leaf=1, min_samples_split=2,\n",
      "                      min_weight_fraction_leaf=0.0, presort='deprecated',\n",
      "                      random_state=None, splitter='best')\n"
     ]
    }
   ],
   "source": [
    "parameters = {'max_depth': [None, 1, 2, 3, 4, 5, 10, 50]}\n",
    "model = tree.DecisionTreeRegressor(criterion=\"mse\")\n",
    "reg = GridSearchCV(model, parameters, scoring='neg_mean_absolute_error')\n",
    "reg.fit(df_train.values, y_train_energies)\n",
    "print(reg.best_estimator_)"
   ]
  },
  {
   "cell_type": "code",
   "execution_count": 376,
   "metadata": {},
   "outputs": [
    {
     "name": "stdout",
     "output_type": "stream",
     "text": [
      "RandomForestRegressor(bootstrap=True, ccp_alpha=0.0, criterion='mse',\n",
      "                      max_depth=None, max_features='auto', max_leaf_nodes=None,\n",
      "                      max_samples=None, min_impurity_decrease=0.0,\n",
      "                      min_impurity_split=None, min_samples_leaf=1,\n",
      "                      min_samples_split=2, min_weight_fraction_leaf=0.0,\n",
      "                      n_estimators=50, n_jobs=None, oob_score=False,\n",
      "                      random_state=None, verbose=0, warm_start=False)\n"
     ]
    }
   ],
   "source": [
    "parameters = {'max_depth': [None, 1, 5, 10], 'n_estimators': [1, 50, 100]}\n",
    "model = RandomForestRegressor(criterion=\"mse\")\n",
    "reg = GridSearchCV(model, parameters, scoring='neg_mean_absolute_error')\n",
    "reg.fit(df_train.values, y_train_energies)\n",
    "print(reg.best_estimator_)"
   ]
  },
  {
   "cell_type": "code",
   "execution_count": 377,
   "metadata": {},
   "outputs": [
    {
     "name": "stdout",
     "output_type": "stream",
     "text": [
      "SVR(C=1, cache_size=200, coef0=0.0, degree=3, epsilon=0.1, gamma='scale',\n",
      "    kernel='rbf', max_iter=-1, shrinking=True, tol=0.001, verbose=False)\n"
     ]
    }
   ],
   "source": [
    "parameters = {'C': [0.1, 1]}\n",
    "model = svm.SVR()\n",
    "reg = GridSearchCV(model, parameters, scoring='neg_mean_absolute_error')\n",
    "reg.fit(df_train.values, y_train_energies)\n",
    "print(reg.best_estimator_)"
   ]
  },
  {
   "cell_type": "code",
   "execution_count": 382,
   "metadata": {},
   "outputs": [
    {
     "name": "stdout",
     "output_type": "stream",
     "text": [
      "MLPRegressor(activation='relu', alpha=0.0001, batch_size='auto', beta_1=0.9,\n",
      "             beta_2=0.999, early_stopping=False, epsilon=1e-08,\n",
      "             hidden_layer_sizes=(10, 50, 10), learning_rate='constant',\n",
      "             learning_rate_init=0.001, max_fun=15000, max_iter=200,\n",
      "             momentum=0.9, n_iter_no_change=10, nesterovs_momentum=True,\n",
      "             power_t=0.5, random_state=None, shuffle=True, solver='adam',\n",
      "             tol=0.0001, validation_fraction=0.1, verbose=False,\n",
      "             warm_start=False)\n"
     ]
    }
   ],
   "source": [
    "parameters = {'hidden_layer_sizes': [(100,), (10, 50, 10)]}\n",
    "model = MLPRegressor()\n",
    "reg = GridSearchCV(model, parameters, scoring='neg_mean_absolute_error')\n",
    "reg.fit(df_train_reg.values, y_train_energies)\n",
    "print(reg.best_estimator_)"
   ]
  },
  {
   "cell_type": "code",
   "execution_count": 379,
   "metadata": {},
   "outputs": [
    {
     "name": "stdout",
     "output_type": "stream",
     "text": [
      "AdaBoostRegressor(base_estimator=None, learning_rate=1.0, loss='linear',\n",
      "                  n_estimators=50, random_state=None)\n"
     ]
    }
   ],
   "source": [
    "parameters = {'n_estimators': [50,100,150]}\n",
    "model = AdaBoostRegressor()\n",
    "reg = GridSearchCV(model, parameters, scoring='neg_mean_absolute_error')\n",
    "reg.fit(df_train.values, y_train_energies)\n",
    "print(reg.best_estimator_)"
   ]
  },
  {
   "cell_type": "code",
   "execution_count": 385,
   "metadata": {},
   "outputs": [],
   "source": [
    "models = {'RidgeStS': make_pipeline(StandardScaler(), linear_model.Ridge(alpha=1e-4)),\n",
    "          'kNN': neighbors.KNeighborsRegressor(n_neighbors=1, weights='uniform'), \n",
    "          'BayesianRidge': linear_model.BayesianRidge(),\n",
    "          'DT' : tree.DecisionTreeRegressor(max_depth=50, criterion=\"mse\"), \n",
    "          'RFT' : RandomForestRegressor(max_depth=None, n_estimators=50, criterion=\"mse\"),\n",
    "          'SVR': svm.SVR(C=1.0),\n",
    "          'MLPRegressor': MLPRegressor(hidden_layer_sizes=(10, 50, 10)),\n",
    "          'AdaBoost': AdaBoostRegressor(n_estimators=50)\n",
    "         }"
   ]
  },
  {
   "cell_type": "code",
   "execution_count": 386,
   "metadata": {},
   "outputs": [
    {
     "name": "stdout",
     "output_type": "stream",
     "text": [
      "RidgeStS feat-s : -7.3780 +- 0.2939\n",
      "kNN feat-s : -0.5323 +- 0.0535\n",
      "BayesianRidge feat-s : -7.3812 +- 0.2911\n",
      "DT feat-s : -0.2965 +- 0.0674\n",
      "RFT feat-s : -0.3320 +- 0.0491\n",
      "SVR feat-s : -8.7659 +- 1.3069\n"
     ]
    },
    {
     "name": "stderr",
     "output_type": "stream",
     "text": [
      "/trinity/shared/opt/python-3.6.8/lib/python3.6/site-packages/sklearn/neural_network/_multilayer_perceptron.py:571: ConvergenceWarning: Stochastic Optimizer: Maximum iterations (200) reached and the optimization hasn't converged yet.\n",
      "  % self.max_iter, ConvergenceWarning)\n"
     ]
    },
    {
     "name": "stdout",
     "output_type": "stream",
     "text": [
      "MLPRegressor feat-s : -63.3632 +- 53.4556\n",
      "AdaBoost feat-s : -1.8783 +- 0.4179\n"
     ]
    }
   ],
   "source": [
    "for model_name, model in models.items():\n",
    "    if model_name == 'RidgeStS' or model_name == 'BayesianRidge' or model_name == 'MLPRegressor':\n",
    "        data_for_training = df_train_reg.values\n",
    "    else:\n",
    "        data_for_training = df_train.values\n",
    "            \n",
    "    sc = cross_validate(model, data_for_training, y_train_energies, scoring='neg_mean_absolute_error', cv=5)\n",
    "    print(model_name + ' feat-s : {:.4f} +- {:.4f}'.format(np.mean(sc['test_score']), np.std(sc['test_score'])))"
   ]
  },
  {
   "cell_type": "markdown",
   "metadata": {},
   "source": [
    "#### fit and predict with the best model:"
   ]
  },
  {
   "cell_type": "code",
   "execution_count": 387,
   "metadata": {},
   "outputs": [],
   "source": [
    "reg = tree.DecisionTreeRegressor(max_depth=50, criterion=\"mse\").fit(df_train.values, y_train_energies)\n",
    "reg_pred = reg.predict(df_test.values)"
   ]
  },
  {
   "cell_type": "code",
   "execution_count": 392,
   "metadata": {},
   "outputs": [],
   "source": [
    "reg_pred[reg_pred < 1] = 1\n",
    "reg_pred[reg_pred > 30] = 30"
   ]
  },
  {
   "cell_type": "code",
   "execution_count": 393,
   "metadata": {},
   "outputs": [
    {
     "data": {
      "text/plain": [
       "(array([6063., 2165.,    0., 3052.,    0.,    0.,  848.,    0.,    0.,\n",
       "        4435.]),\n",
       " array([ 1. ,  3.9,  6.8,  9.7, 12.6, 15.5, 18.4, 21.3, 24.2, 27.1, 30. ]),\n",
       " <a list of 10 Patch objects>)"
      ]
     },
     "execution_count": 393,
     "metadata": {},
     "output_type": "execute_result"
    },
    {
     "data": {
      "image/png": "[encoded data removed]",
      "text/plain": [
       "<Figure size 432x288 with 1 Axes>"
      ]
     },
     "metadata": {
      "needs_background": "light"
     },
     "output_type": "display_data"
    }
   ],
   "source": [
    "plt.hist(reg_pred)"
   ]
  },
  {
   "cell_type": "markdown",
   "metadata": {},
   "source": [
    "## classification"
   ]
  },
  {
   "cell_type": "markdown",
   "metadata": {},
   "source": [
    "##### compare models with default parameters:"
   ]
  },
  {
   "cell_type": "code",
   "execution_count": 335,
   "metadata": {},
   "outputs": [],
   "source": [
    "models = {'LogResStS': make_pipeline(StandardScaler(), LogisticRegression()),\n",
    "          'LDA': LinearDiscriminantAnalysis(), \n",
    "          'DT': DecisionTreeClassifier(),\n",
    "          'RandomFC' : RandomForestClassifier(), \n",
    "          'SVM' : svm.SVC(),\n",
    "          'MLPStS': make_pipeline(StandardScaler(), MLPClassifier()),\n",
    "          'kNNN': KNeighborsClassifier(),\n",
    "          'AdaBoostSts': make_pipeline(StandardScaler(), AdaBoostClassifier())\n",
    "         }"
   ]
  },
  {
   "cell_type": "markdown",
   "metadata": {},
   "source": [
    "##### train on many features:"
   ]
  },
  {
   "cell_type": "code",
   "execution_count": 337,
   "metadata": {},
   "outputs": [
    {
     "name": "stderr",
     "output_type": "stream",
     "text": [
      "/trinity/shared/opt/python-3.6.8/lib/python3.6/site-packages/sklearn/linear_model/_logistic.py:940: ConvergenceWarning: lbfgs failed to converge (status=1):\n",
      "STOP: TOTAL NO. of ITERATIONS REACHED LIMIT.\n",
      "\n",
      "Increase the number of iterations (max_iter) or scale the data as shown in:\n",
      "    https://scikit-learn.org/stable/modules/preprocessing.html\n",
      "Please also refer to the documentation for alternative solver options:\n",
      "    https://scikit-learn.org/stable/modules/linear_model.html#logistic-regression\n",
      "  extra_warning_msg=_LOGISTIC_SOLVER_CONVERGENCE_MSG)\n",
      "/trinity/shared/opt/python-3.6.8/lib/python3.6/site-packages/sklearn/linear_model/_logistic.py:940: ConvergenceWarning: lbfgs failed to converge (status=1):\n",
      "STOP: TOTAL NO. of ITERATIONS REACHED LIMIT.\n",
      "\n",
      "Increase the number of iterations (max_iter) or scale the data as shown in:\n",
      "    https://scikit-learn.org/stable/modules/preprocessing.html\n",
      "Please also refer to the documentation for alternative solver options:\n",
      "    https://scikit-learn.org/stable/modules/linear_model.html#logistic-regression\n",
      "  extra_warning_msg=_LOGISTIC_SOLVER_CONVERGENCE_MSG)\n",
      "/trinity/shared/opt/python-3.6.8/lib/python3.6/site-packages/sklearn/linear_model/_logistic.py:940: ConvergenceWarning: lbfgs failed to converge (status=1):\n",
      "STOP: TOTAL NO. of ITERATIONS REACHED LIMIT.\n",
      "\n",
      "Increase the number of iterations (max_iter) or scale the data as shown in:\n",
      "    https://scikit-learn.org/stable/modules/preprocessing.html\n",
      "Please also refer to the documentation for alternative solver options:\n",
      "    https://scikit-learn.org/stable/modules/linear_model.html#logistic-regression\n",
      "  extra_warning_msg=_LOGISTIC_SOLVER_CONVERGENCE_MSG)\n",
      "/trinity/shared/opt/python-3.6.8/lib/python3.6/site-packages/sklearn/linear_model/_logistic.py:940: ConvergenceWarning: lbfgs failed to converge (status=1):\n",
      "STOP: TOTAL NO. of ITERATIONS REACHED LIMIT.\n",
      "\n",
      "Increase the number of iterations (max_iter) or scale the data as shown in:\n",
      "    https://scikit-learn.org/stable/modules/preprocessing.html\n",
      "Please also refer to the documentation for alternative solver options:\n",
      "    https://scikit-learn.org/stable/modules/linear_model.html#logistic-regression\n",
      "  extra_warning_msg=_LOGISTIC_SOLVER_CONVERGENCE_MSG)\n"
     ]
    },
    {
     "name": "stdout",
     "output_type": "stream",
     "text": [
      "LogResStS feat-s : 0.6876 +- 0.0123\n",
      "LDA feat-s : 0.6641 +- 0.0094\n",
      "DT feat-s : 0.9416 +- 0.0075\n",
      "RandomFC feat-s : 0.9943 +- 0.0010\n",
      "SVM feat-s : 0.6665 +- 0.0089\n"
     ]
    },
    {
     "name": "stderr",
     "output_type": "stream",
     "text": [
      "/trinity/shared/opt/python-3.6.8/lib/python3.6/site-packages/sklearn/neural_network/_multilayer_perceptron.py:571: ConvergenceWarning: Stochastic Optimizer: Maximum iterations (200) reached and the optimization hasn't converged yet.\n",
      "  % self.max_iter, ConvergenceWarning)\n",
      "/trinity/shared/opt/python-3.6.8/lib/python3.6/site-packages/sklearn/neural_network/_multilayer_perceptron.py:571: ConvergenceWarning: Stochastic Optimizer: Maximum iterations (200) reached and the optimization hasn't converged yet.\n",
      "  % self.max_iter, ConvergenceWarning)\n",
      "/trinity/shared/opt/python-3.6.8/lib/python3.6/site-packages/sklearn/neural_network/_multilayer_perceptron.py:571: ConvergenceWarning: Stochastic Optimizer: Maximum iterations (200) reached and the optimization hasn't converged yet.\n",
      "  % self.max_iter, ConvergenceWarning)\n",
      "/trinity/shared/opt/python-3.6.8/lib/python3.6/site-packages/sklearn/neural_network/_multilayer_perceptron.py:571: ConvergenceWarning: Stochastic Optimizer: Maximum iterations (200) reached and the optimization hasn't converged yet.\n",
      "  % self.max_iter, ConvergenceWarning)\n",
      "/trinity/shared/opt/python-3.6.8/lib/python3.6/site-packages/sklearn/neural_network/_multilayer_perceptron.py:571: ConvergenceWarning: Stochastic Optimizer: Maximum iterations (200) reached and the optimization hasn't converged yet.\n",
      "  % self.max_iter, ConvergenceWarning)\n"
     ]
    },
    {
     "name": "stdout",
     "output_type": "stream",
     "text": [
      "MLPStS feat-s : 0.9469 +- 0.0028\n"
     ]
    },
    {
     "name": "stderr",
     "output_type": "stream",
     "text": [
      "/trinity/shared/opt/python-3.6.8/lib/python3.6/site-packages/sklearn/neighbors/_classification.py:244: RuntimeWarning: invalid value encountered in true_divide\n",
      "  proba_k /= normalizer\n",
      "/trinity/shared/opt/python-3.6.8/lib/python3.6/site-packages/sklearn/neighbors/_classification.py:244: RuntimeWarning: invalid value encountered in true_divide\n",
      "  proba_k /= normalizer\n",
      "/trinity/shared/opt/python-3.6.8/lib/python3.6/site-packages/sklearn/neighbors/_classification.py:244: RuntimeWarning: invalid value encountered in true_divide\n",
      "  proba_k /= normalizer\n",
      "/trinity/shared/opt/python-3.6.8/lib/python3.6/site-packages/sklearn/neighbors/_classification.py:244: RuntimeWarning: invalid value encountered in true_divide\n",
      "  proba_k /= normalizer\n",
      "/trinity/shared/opt/python-3.6.8/lib/python3.6/site-packages/sklearn/neighbors/_classification.py:244: RuntimeWarning: invalid value encountered in true_divide\n",
      "  proba_k /= normalizer\n"
     ]
    },
    {
     "name": "stdout",
     "output_type": "stream",
     "text": [
      "kNNN feat-s : 0.9554 +- 0.0038\n",
      "AdaBoostSts feat-s : 0.9896 +- 0.0019\n"
     ]
    }
   ],
   "source": [
    "for model_name, model in models.items():\n",
    "    sc = cross_validate(model, df_train.values, y_train_classes, scoring='roc_auc', cv=5)\n",
    "    print(model_name + ' feat-s : {:.4f} +- {:.4f}'.format(np.mean(sc['test_score']), np.std(sc['test_score'])))"
   ]
  },
  {
   "cell_type": "markdown",
   "metadata": {},
   "source": [
    "##### train on the selected subset of features:"
   ]
  },
  {
   "cell_type": "code",
   "execution_count": 338,
   "metadata": {},
   "outputs": [
    {
     "name": "stdout",
     "output_type": "stream",
     "text": [
      "LogResStS feat-s : 0.6674 +- 0.0124\n",
      "LDA feat-s : 0.6434 +- 0.0095\n",
      "DT feat-s : 0.5940 +- 0.0034\n",
      "RandomFC feat-s : 0.6649 +- 0.0144\n",
      "SVM feat-s : 0.6675 +- 0.0134\n",
      "MLPStS feat-s : 0.6679 +- 0.0129\n",
      "kNNN feat-s : 0.6591 +- 0.0112\n"
     ]
    },
    {
     "name": "stderr",
     "output_type": "stream",
     "text": [
      "/trinity/shared/opt/python-3.6.8/lib/python3.6/site-packages/sklearn/neighbors/_classification.py:244: RuntimeWarning: invalid value encountered in true_divide\n",
      "  proba_k /= normalizer\n",
      "/trinity/shared/opt/python-3.6.8/lib/python3.6/site-packages/sklearn/neighbors/_classification.py:244: RuntimeWarning: invalid value encountered in true_divide\n",
      "  proba_k /= normalizer\n",
      "/trinity/shared/opt/python-3.6.8/lib/python3.6/site-packages/sklearn/neighbors/_classification.py:244: RuntimeWarning: invalid value encountered in true_divide\n",
      "  proba_k /= normalizer\n",
      "/trinity/shared/opt/python-3.6.8/lib/python3.6/site-packages/sklearn/neighbors/_classification.py:244: RuntimeWarning: invalid value encountered in true_divide\n",
      "  proba_k /= normalizer\n",
      "/trinity/shared/opt/python-3.6.8/lib/python3.6/site-packages/sklearn/neighbors/_classification.py:244: RuntimeWarning: invalid value encountered in true_divide\n",
      "  proba_k /= normalizer\n"
     ]
    },
    {
     "name": "stdout",
     "output_type": "stream",
     "text": [
      "AdaBoostSts feat-s : 0.6651 +- 0.0111\n"
     ]
    }
   ],
   "source": [
    "for model_name, model in models.items():\n",
    "    sc = cross_validate(model, df_train_cl.values, y_train_classes, scoring='roc_auc', cv=5)\n",
    "    print(model_name + ' feat-s : {:.4f} +- {:.4f}'.format(np.mean(sc['test_score']), np.std(sc['test_score'])))"
   ]
  },
  {
   "cell_type": "markdown",
   "metadata": {},
   "source": [
    "##### GridSearch parameters:"
   ]
  },
  {
   "cell_type": "code",
   "execution_count": 341,
   "metadata": {},
   "outputs": [
    {
     "name": "stdout",
     "output_type": "stream",
     "text": [
      "LogisticRegression(C=0.0001, class_weight=None, dual=False, fit_intercept=True,\n",
      "                   intercept_scaling=1, l1_ratio=None, max_iter=1000,\n",
      "                   multi_class='auto', n_jobs=None, penalty='l2',\n",
      "                   random_state=None, solver='lbfgs', tol=0.0001, verbose=0,\n",
      "                   warm_start=False)\n"
     ]
    }
   ],
   "source": [
    "parameters = {'C': np.logspace(-5, 3, num=9), 'max_iter': [1000,10000]}\n",
    "model =  LogisticRegression()\n",
    "clf = GridSearchCV(model, parameters, scoring='roc_auc')\n",
    "clf.fit(df_train.values, y_train_classes)\n",
    "print(clf.best_estimator_)"
   ]
  },
  {
   "cell_type": "code",
   "execution_count": 342,
   "metadata": {},
   "outputs": [
    {
     "name": "stdout",
     "output_type": "stream",
     "text": [
      "LinearDiscriminantAnalysis(n_components=None, priors=None, shrinkage=None,\n",
      "                           solver='svd', store_covariance=False, tol=0.0001)\n"
     ]
    }
   ],
   "source": [
    "parameters = {}\n",
    "model =  LinearDiscriminantAnalysis()\n",
    "clf = GridSearchCV(model, parameters, scoring='roc_auc')\n",
    "clf.fit(df_train.values, y_train_classes)\n",
    "print(clf.best_estimator_)"
   ]
  },
  {
   "cell_type": "code",
   "execution_count": 343,
   "metadata": {},
   "outputs": [
    {
     "name": "stdout",
     "output_type": "stream",
     "text": [
      "DecisionTreeClassifier(ccp_alpha=0.0, class_weight=None, criterion='gini',\n",
      "                       max_depth=10, max_features=None, max_leaf_nodes=None,\n",
      "                       min_impurity_decrease=0.0, min_impurity_split=None,\n",
      "                       min_samples_leaf=1, min_samples_split=2,\n",
      "                       min_weight_fraction_leaf=0.0, presort='deprecated',\n",
      "                       random_state=None, splitter='best')\n"
     ]
    }
   ],
   "source": [
    "parameters = {'max_depth': [None, 1, 2, 3, 4, 5, 10, 50]}\n",
    "model =  DecisionTreeClassifier()\n",
    "clf = GridSearchCV(model, parameters, scoring='roc_auc')\n",
    "clf.fit(df_train.values, y_train_classes)\n",
    "print(clf.best_estimator_)"
   ]
  },
  {
   "cell_type": "code",
   "execution_count": 344,
   "metadata": {},
   "outputs": [
    {
     "name": "stdout",
     "output_type": "stream",
     "text": [
      "RandomForestClassifier(bootstrap=True, ccp_alpha=0.0, class_weight=None,\n",
      "                       criterion='gini', max_depth=None, max_features='auto',\n",
      "                       max_leaf_nodes=None, max_samples=None,\n",
      "                       min_impurity_decrease=0.0, min_impurity_split=None,\n",
      "                       min_samples_leaf=1, min_samples_split=2,\n",
      "                       min_weight_fraction_leaf=0.0, n_estimators=100,\n",
      "                       n_jobs=None, oob_score=False, random_state=None,\n",
      "                       verbose=0, warm_start=False)\n"
     ]
    }
   ],
   "source": [
    "parameters = {'max_depth': [None, 1, 5, 10], 'n_estimators': [1, 5, 10, 50, 100]}\n",
    "model =  RandomForestClassifier()\n",
    "clf = GridSearchCV(model, parameters, scoring='roc_auc')\n",
    "clf.fit(df_train.values, y_train_classes)\n",
    "print(clf.best_estimator_)"
   ]
  },
  {
   "cell_type": "code",
   "execution_count": 345,
   "metadata": {},
   "outputs": [
    {
     "name": "stdout",
     "output_type": "stream",
     "text": [
      "SVC(C=1, break_ties=False, cache_size=200, class_weight=None, coef0=0.0,\n",
      "    decision_function_shape='ovr', degree=3, gamma='scale', kernel='rbf',\n",
      "    max_iter=-1, probability=False, random_state=None, shrinking=True,\n",
      "    tol=0.001, verbose=False)\n"
     ]
    }
   ],
   "source": [
    "parameters = {'kernel':['rbf'], 'C':[1e-1, 1]}\n",
    "model =  svm.SVC()\n",
    "clf = GridSearchCV(model, parameters, scoring='roc_auc')\n",
    "clf.fit(df_train.values, y_train_classes)\n",
    "print(clf.best_estimator_)"
   ]
  },
  {
   "cell_type": "code",
   "execution_count": 346,
   "metadata": {},
   "outputs": [
    {
     "name": "stderr",
     "output_type": "stream",
     "text": [
      "/trinity/shared/opt/python-3.6.8/lib/python3.6/site-packages/sklearn/neural_network/_multilayer_perceptron.py:571: ConvergenceWarning: Stochastic Optimizer: Maximum iterations (200) reached and the optimization hasn't converged yet.\n",
      "  % self.max_iter, ConvergenceWarning)\n",
      "/trinity/shared/opt/python-3.6.8/lib/python3.6/site-packages/sklearn/neural_network/_multilayer_perceptron.py:571: ConvergenceWarning: Stochastic Optimizer: Maximum iterations (200) reached and the optimization hasn't converged yet.\n",
      "  % self.max_iter, ConvergenceWarning)\n",
      "/trinity/shared/opt/python-3.6.8/lib/python3.6/site-packages/sklearn/neural_network/_multilayer_perceptron.py:571: ConvergenceWarning: Stochastic Optimizer: Maximum iterations (200) reached and the optimization hasn't converged yet.\n",
      "  % self.max_iter, ConvergenceWarning)\n",
      "/trinity/shared/opt/python-3.6.8/lib/python3.6/site-packages/sklearn/neural_network/_multilayer_perceptron.py:571: ConvergenceWarning: Stochastic Optimizer: Maximum iterations (200) reached and the optimization hasn't converged yet.\n",
      "  % self.max_iter, ConvergenceWarning)\n",
      "/trinity/shared/opt/python-3.6.8/lib/python3.6/site-packages/sklearn/neural_network/_multilayer_perceptron.py:571: ConvergenceWarning: Stochastic Optimizer: Maximum iterations (200) reached and the optimization hasn't converged yet.\n",
      "  % self.max_iter, ConvergenceWarning)\n",
      "/trinity/shared/opt/python-3.6.8/lib/python3.6/site-packages/sklearn/neural_network/_multilayer_perceptron.py:571: ConvergenceWarning: Stochastic Optimizer: Maximum iterations (200) reached and the optimization hasn't converged yet.\n",
      "  % self.max_iter, ConvergenceWarning)\n",
      "/trinity/shared/opt/python-3.6.8/lib/python3.6/site-packages/sklearn/neural_network/_multilayer_perceptron.py:571: ConvergenceWarning: Stochastic Optimizer: Maximum iterations (200) reached and the optimization hasn't converged yet.\n",
      "  % self.max_iter, ConvergenceWarning)\n",
      "/trinity/shared/opt/python-3.6.8/lib/python3.6/site-packages/sklearn/neural_network/_multilayer_perceptron.py:571: ConvergenceWarning: Stochastic Optimizer: Maximum iterations (200) reached and the optimization hasn't converged yet.\n",
      "  % self.max_iter, ConvergenceWarning)\n"
     ]
    },
    {
     "name": "stdout",
     "output_type": "stream",
     "text": [
      "MLPClassifier(activation='relu', alpha=0.0001, batch_size='auto', beta_1=0.9,\n",
      "              beta_2=0.999, early_stopping=False, epsilon=1e-08,\n",
      "              hidden_layer_sizes=(10, 50, 10), learning_rate='constant',\n",
      "              learning_rate_init=0.001, max_fun=15000, max_iter=200,\n",
      "              momentum=0.9, n_iter_no_change=10, nesterovs_momentum=True,\n",
      "              power_t=0.5, random_state=None, shuffle=True, solver='adam',\n",
      "              tol=0.0001, validation_fraction=0.1, verbose=False,\n",
      "              warm_start=False)\n"
     ]
    },
    {
     "name": "stderr",
     "output_type": "stream",
     "text": [
      "/trinity/shared/opt/python-3.6.8/lib/python3.6/site-packages/sklearn/neural_network/_multilayer_perceptron.py:571: ConvergenceWarning: Stochastic Optimizer: Maximum iterations (200) reached and the optimization hasn't converged yet.\n",
      "  % self.max_iter, ConvergenceWarning)\n"
     ]
    }
   ],
   "source": [
    "parameters = {'hidden_layer_sizes': [(100,), (10, 50, 10)]}\n",
    "model =  MLPClassifier()\n",
    "clf = GridSearchCV(model, parameters, scoring='roc_auc')\n",
    "clf.fit(df_train.values, y_train_classes)\n",
    "print(clf.best_estimator_)"
   ]
  },
  {
   "cell_type": "code",
   "execution_count": 347,
   "metadata": {},
   "outputs": [
    {
     "name": "stderr",
     "output_type": "stream",
     "text": [
      "/trinity/shared/opt/python-3.6.8/lib/python3.6/site-packages/sklearn/neighbors/_classification.py:244: RuntimeWarning: invalid value encountered in true_divide\n",
      "  proba_k /= normalizer\n",
      "/trinity/shared/opt/python-3.6.8/lib/python3.6/site-packages/sklearn/neighbors/_classification.py:244: RuntimeWarning: invalid value encountered in true_divide\n",
      "  proba_k /= normalizer\n",
      "/trinity/shared/opt/python-3.6.8/lib/python3.6/site-packages/sklearn/neighbors/_classification.py:244: RuntimeWarning: invalid value encountered in true_divide\n",
      "  proba_k /= normalizer\n",
      "/trinity/shared/opt/python-3.6.8/lib/python3.6/site-packages/sklearn/neighbors/_classification.py:244: RuntimeWarning: invalid value encountered in true_divide\n",
      "  proba_k /= normalizer\n",
      "/trinity/shared/opt/python-3.6.8/lib/python3.6/site-packages/sklearn/neighbors/_classification.py:244: RuntimeWarning: invalid value encountered in true_divide\n",
      "  proba_k /= normalizer\n",
      "/trinity/shared/opt/python-3.6.8/lib/python3.6/site-packages/sklearn/neighbors/_classification.py:244: RuntimeWarning: invalid value encountered in true_divide\n",
      "  proba_k /= normalizer\n",
      "/trinity/shared/opt/python-3.6.8/lib/python3.6/site-packages/sklearn/neighbors/_classification.py:244: RuntimeWarning: invalid value encountered in true_divide\n",
      "  proba_k /= normalizer\n",
      "/trinity/shared/opt/python-3.6.8/lib/python3.6/site-packages/sklearn/neighbors/_classification.py:244: RuntimeWarning: invalid value encountered in true_divide\n",
      "  proba_k /= normalizer\n",
      "/trinity/shared/opt/python-3.6.8/lib/python3.6/site-packages/sklearn/neighbors/_classification.py:244: RuntimeWarning: invalid value encountered in true_divide\n",
      "  proba_k /= normalizer\n",
      "/trinity/shared/opt/python-3.6.8/lib/python3.6/site-packages/sklearn/neighbors/_classification.py:244: RuntimeWarning: invalid value encountered in true_divide\n",
      "  proba_k /= normalizer\n",
      "/trinity/shared/opt/python-3.6.8/lib/python3.6/site-packages/sklearn/neighbors/_classification.py:244: RuntimeWarning: invalid value encountered in true_divide\n",
      "  proba_k /= normalizer\n",
      "/trinity/shared/opt/python-3.6.8/lib/python3.6/site-packages/sklearn/neighbors/_classification.py:244: RuntimeWarning: invalid value encountered in true_divide\n",
      "  proba_k /= normalizer\n",
      "/trinity/shared/opt/python-3.6.8/lib/python3.6/site-packages/sklearn/neighbors/_classification.py:244: RuntimeWarning: invalid value encountered in true_divide\n",
      "  proba_k /= normalizer\n",
      "/trinity/shared/opt/python-3.6.8/lib/python3.6/site-packages/sklearn/neighbors/_classification.py:244: RuntimeWarning: invalid value encountered in true_divide\n",
      "  proba_k /= normalizer\n",
      "/trinity/shared/opt/python-3.6.8/lib/python3.6/site-packages/sklearn/neighbors/_classification.py:244: RuntimeWarning: invalid value encountered in true_divide\n",
      "  proba_k /= normalizer\n",
      "/trinity/shared/opt/python-3.6.8/lib/python3.6/site-packages/sklearn/neighbors/_classification.py:244: RuntimeWarning: invalid value encountered in true_divide\n",
      "  proba_k /= normalizer\n",
      "/trinity/shared/opt/python-3.6.8/lib/python3.6/site-packages/sklearn/neighbors/_classification.py:244: RuntimeWarning: invalid value encountered in true_divide\n",
      "  proba_k /= normalizer\n",
      "/trinity/shared/opt/python-3.6.8/lib/python3.6/site-packages/sklearn/neighbors/_classification.py:244: RuntimeWarning: invalid value encountered in true_divide\n",
      "  proba_k /= normalizer\n",
      "/trinity/shared/opt/python-3.6.8/lib/python3.6/site-packages/sklearn/neighbors/_classification.py:244: RuntimeWarning: invalid value encountered in true_divide\n",
      "  proba_k /= normalizer\n",
      "/trinity/shared/opt/python-3.6.8/lib/python3.6/site-packages/sklearn/neighbors/_classification.py:244: RuntimeWarning: invalid value encountered in true_divide\n",
      "  proba_k /= normalizer\n",
      "/trinity/shared/opt/python-3.6.8/lib/python3.6/site-packages/sklearn/neighbors/_classification.py:244: RuntimeWarning: invalid value encountered in true_divide\n",
      "  proba_k /= normalizer\n",
      "/trinity/shared/opt/python-3.6.8/lib/python3.6/site-packages/sklearn/neighbors/_classification.py:244: RuntimeWarning: invalid value encountered in true_divide\n",
      "  proba_k /= normalizer\n",
      "/trinity/shared/opt/python-3.6.8/lib/python3.6/site-packages/sklearn/neighbors/_classification.py:244: RuntimeWarning: invalid value encountered in true_divide\n",
      "  proba_k /= normalizer\n",
      "/trinity/shared/opt/python-3.6.8/lib/python3.6/site-packages/sklearn/neighbors/_classification.py:244: RuntimeWarning: invalid value encountered in true_divide\n",
      "  proba_k /= normalizer\n",
      "/trinity/shared/opt/python-3.6.8/lib/python3.6/site-packages/sklearn/neighbors/_classification.py:244: RuntimeWarning: invalid value encountered in true_divide\n",
      "  proba_k /= normalizer\n",
      "/trinity/shared/opt/python-3.6.8/lib/python3.6/site-packages/sklearn/neighbors/_classification.py:244: RuntimeWarning: invalid value encountered in true_divide\n",
      "  proba_k /= normalizer\n",
      "/trinity/shared/opt/python-3.6.8/lib/python3.6/site-packages/sklearn/neighbors/_classification.py:244: RuntimeWarning: invalid value encountered in true_divide\n",
      "  proba_k /= normalizer\n",
      "/trinity/shared/opt/python-3.6.8/lib/python3.6/site-packages/sklearn/neighbors/_classification.py:244: RuntimeWarning: invalid value encountered in true_divide\n",
      "  proba_k /= normalizer\n",
      "/trinity/shared/opt/python-3.6.8/lib/python3.6/site-packages/sklearn/neighbors/_classification.py:244: RuntimeWarning: invalid value encountered in true_divide\n",
      "  proba_k /= normalizer\n"
     ]
    },
    {
     "name": "stdout",
     "output_type": "stream",
     "text": [
      "KNeighborsClassifier(algorithm='auto', leaf_size=30, metric='minkowski',\n",
      "                     metric_params=None, n_jobs=None, n_neighbors=50, p=2,\n",
      "                     weights='uniform')\n"
     ]
    },
    {
     "name": "stderr",
     "output_type": "stream",
     "text": [
      "/trinity/shared/opt/python-3.6.8/lib/python3.6/site-packages/sklearn/neighbors/_classification.py:244: RuntimeWarning: invalid value encountered in true_divide\n",
      "  proba_k /= normalizer\n"
     ]
    }
   ],
   "source": [
    "parameters = {'n_neighbors': [1,2,5,10,50,100]}\n",
    "model = KNeighborsClassifier()\n",
    "clf = GridSearchCV(model, parameters, scoring='roc_auc')\n",
    "clf.fit(df_train.values, y_train_classes)\n",
    "print(clf.best_estimator_)"
   ]
  },
  {
   "cell_type": "code",
   "execution_count": 356,
   "metadata": {},
   "outputs": [
    {
     "name": "stdout",
     "output_type": "stream",
     "text": [
      "AdaBoostClassifier(algorithm='SAMME.R', base_estimator=None, learning_rate=1.0,\n",
      "                   n_estimators=150, random_state=None)\n"
     ]
    }
   ],
   "source": [
    "#parameters = {'learning_rate': np.logspace(-1, 2, num=4), 'n_estimators': [100, 150]}\n",
    "parameters = {'n_estimators': [100, 150]}\n",
    "model =  AdaBoostClassifier()\n",
    "clf = GridSearchCV(model, parameters, scoring='roc_auc')\n",
    "clf.fit(df_train.values, y_train_classes)\n",
    "print(clf.best_estimator_)"
   ]
  },
  {
   "cell_type": "code",
   "execution_count": 359,
   "metadata": {},
   "outputs": [],
   "source": [
    "models = {'LogRes': LogisticRegression(C=1e-4, max_iter=1000),\n",
    "          'LDA': LinearDiscriminantAnalysis(), \n",
    "          'DT': DecisionTreeClassifier(max_depth=10),\n",
    "          'RandomFC' : RandomForestClassifier(max_depth=None, n_estimators=100), \n",
    "          'SVM' : svm.SVC(kernel='rbf', C=1.0),\n",
    "          'MLPStS': make_pipeline(StandardScaler(), MLPClassifier(hidden_layer_sizes=(10, 50, 10))),\n",
    "          'kNNN': KNeighborsClassifier(n_neighbors=50),\n",
    "          'AdaBoost': AdaBoostClassifier(n_estimators=150)\n",
    "         }"
   ]
  },
  {
   "cell_type": "code",
   "execution_count": 360,
   "metadata": {},
   "outputs": [
    {
     "name": "stdout",
     "output_type": "stream",
     "text": [
      "LogRes feat-s : 0.6531 +- 0.0045\n",
      "LDA feat-s : 0.6641 +- 0.0094\n",
      "DT feat-s : 0.9778 +- 0.0058\n",
      "RandomFC feat-s : 0.9945 +- 0.0010\n",
      "SVM feat-s : 0.6665 +- 0.0089\n"
     ]
    },
    {
     "name": "stderr",
     "output_type": "stream",
     "text": [
      "/trinity/shared/opt/python-3.6.8/lib/python3.6/site-packages/sklearn/neural_network/_multilayer_perceptron.py:571: ConvergenceWarning: Stochastic Optimizer: Maximum iterations (200) reached and the optimization hasn't converged yet.\n",
      "  % self.max_iter, ConvergenceWarning)\n",
      "/trinity/shared/opt/python-3.6.8/lib/python3.6/site-packages/sklearn/neural_network/_multilayer_perceptron.py:571: ConvergenceWarning: Stochastic Optimizer: Maximum iterations (200) reached and the optimization hasn't converged yet.\n",
      "  % self.max_iter, ConvergenceWarning)\n",
      "/trinity/shared/opt/python-3.6.8/lib/python3.6/site-packages/sklearn/neural_network/_multilayer_perceptron.py:571: ConvergenceWarning: Stochastic Optimizer: Maximum iterations (200) reached and the optimization hasn't converged yet.\n",
      "  % self.max_iter, ConvergenceWarning)\n"
     ]
    },
    {
     "name": "stdout",
     "output_type": "stream",
     "text": [
      "MLPStS feat-s : 0.9862 +- 0.0013\n"
     ]
    },
    {
     "name": "stderr",
     "output_type": "stream",
     "text": [
      "/trinity/shared/opt/python-3.6.8/lib/python3.6/site-packages/sklearn/neighbors/_classification.py:244: RuntimeWarning: invalid value encountered in true_divide\n",
      "  proba_k /= normalizer\n",
      "/trinity/shared/opt/python-3.6.8/lib/python3.6/site-packages/sklearn/neighbors/_classification.py:244: RuntimeWarning: invalid value encountered in true_divide\n",
      "  proba_k /= normalizer\n",
      "/trinity/shared/opt/python-3.6.8/lib/python3.6/site-packages/sklearn/neighbors/_classification.py:244: RuntimeWarning: invalid value encountered in true_divide\n",
      "  proba_k /= normalizer\n",
      "/trinity/shared/opt/python-3.6.8/lib/python3.6/site-packages/sklearn/neighbors/_classification.py:244: RuntimeWarning: invalid value encountered in true_divide\n",
      "  proba_k /= normalizer\n",
      "/trinity/shared/opt/python-3.6.8/lib/python3.6/site-packages/sklearn/neighbors/_classification.py:244: RuntimeWarning: invalid value encountered in true_divide\n",
      "  proba_k /= normalizer\n"
     ]
    },
    {
     "name": "stdout",
     "output_type": "stream",
     "text": [
      "kNNN feat-s : 0.9656 +- 0.0030\n",
      "AdaBoost feat-s : 0.9903 +- 0.0015\n"
     ]
    }
   ],
   "source": [
    "for model_name, model in models.items():\n",
    "    sc = cross_validate(model, df_train.values, y_train_classes, scoring='roc_auc', cv=5)\n",
    "    print(model_name + ' feat-s : {:.4f} +- {:.4f}'.format(np.mean(sc['test_score']), np.std(sc['test_score'])))"
   ]
  },
  {
   "cell_type": "markdown",
   "metadata": {},
   "source": [
    "#### fit and predict with the best model:"
   ]
  },
  {
   "cell_type": "code",
   "execution_count": 398,
   "metadata": {},
   "outputs": [],
   "source": [
    "log_res = RandomForestClassifier(max_depth=None, n_estimators=100).fit(df_train.values, y_train_classes)\n",
    "cl_pred = log_res.predict(df_test.values)"
   ]
  },
  {
   "cell_type": "code",
   "execution_count": 400,
   "metadata": {},
   "outputs": [],
   "source": [
    "im_names = np.append(df_public_test['image_name'].values, df_private_test['image_name'].values)\n",
    "\n",
    "# np.random.seed(10)\n",
    "# reg_pred = 29*np.random.random_sample(size=16563) + 1\n",
    "# cl_pred = np.random.randint(2, size=16563)"
   ]
  },
  {
   "cell_type": "code",
   "execution_count": 401,
   "metadata": {},
   "outputs": [],
   "source": [
    "def generate_submission(cl_pred, reg_pred, im_names, submission_name):\n",
    "    \n",
    "    sample_submission = pd.read_csv(data_path + 'track1_predictions_example.csv')\n",
    "    \n",
    "    # create dataframe\n",
    "    submission = pd.DataFrame(columns=sample_submission.columns)\n",
    "    submission['id'] = im_names\n",
    "    submission['classification_predictions'] = cl_pred\n",
    "    submission['regression_predictions'] = reg_pred\n",
    "\n",
    "    # add an entry that was exluded from the private test dataset by the 'try-except' method\n",
    "    submission = submission.append(submission.iloc[len(submission)-1], ignore_index=True)\n",
    "    submission['id'].iloc[len(submission)-1]  = '057f420d13253901195b932f1c9e933361e362d3'\n",
    "    submission['classification_predictions'].iloc[len(submission)-1]  = 1 #ER\n",
    "    submission['regression_predictions'].iloc[len(submission)-1]  = 1\n",
    "\n",
    "    # sort values by id\n",
    "    idx = submission.index\n",
    "    submission.sort_values('id', inplace=True)\n",
    "    submission.index = idx\n",
    "    \n",
    "    # save to csv\n",
    "    submission.to_csv(submission_name + '.csv', index=False, header=True)"
   ]
  },
  {
   "cell_type": "code",
   "execution_count": 402,
   "metadata": {},
   "outputs": [
    {
     "name": "stderr",
     "output_type": "stream",
     "text": [
      "/trinity/shared/opt/python-3.6.8/lib/python3.6/site-packages/pandas/core/indexing.py:189: SettingWithCopyWarning: \n",
      "A value is trying to be set on a copy of a slice from a DataFrame\n",
      "\n",
      "See the caveats in the documentation: http://pandas.pydata.org/pandas-docs/stable/indexing.html#indexing-view-versus-copy\n",
      "  self._setitem_with_indexer(indexer, value)\n"
     ]
    }
   ],
   "source": [
    "generate_submission(cl_pred, reg_pred, im_names, 'DT_50_reg_RFT_100_cl')"
   ]
  },
  {
   "cell_type": "code",
   "execution_count": 77,
   "metadata": {},
   "outputs": [],
   "source": [
    "# energies = [1,3,6,10,20,30]\n",
    "# NR_train_energies = [1,6,20]\n",
    "# ER_train_energies = [3,10,30]\n",
    "# value_NR = [np.median(df_NR[df_NR['event_energy'] == e]['dmu']) for e in NR_train_energies]\n",
    "# value_ER = [np.median(df_ER[df_ER['event_energy'] == e]['dmu']) for e in ER_train_energies]\n",
    "# std_NR = [np.std(df_NR[df_NR['event_energy'] == e]['dmu']) for e in NR_train_energies]\n",
    "# std_ER = [np.std(df_ER[df_ER['event_energy'] == e]['dmu']) for e in ER_train_energies]\n",
    "# #plt.hist(df_ER[df_ER['event_energy'] == 30]['N_x'])"
   ]
  },
  {
   "cell_type": "code",
   "execution_count": 92,
   "metadata": {},
   "outputs": [],
   "source": [
    "# plt.bar(x=NR_train_energies, height=value_NR, align='center', alpha=0.5)\n",
    "# plt.ylim((-, 1))"
   ]
  },
  {
   "cell_type": "markdown",
   "metadata": {},
   "source": [
    " "
   ]
  }
 ],
 "metadata": {
  "kernelspec": {
   "display_name": "Python 3",
   "language": "python",
   "name": "python3"
  },
  "language_info": {
   "codemirror_mode": {
    "name": "ipython",
    "version": 3
   },
   "file_extension": ".py",
   "mimetype": "text/x-python",
   "name": "python",
   "nbconvert_exporter": "python",
   "pygments_lexer": "ipython3",
   "version": "3.6.8"
  }
 },
 "nbformat": 4,
 "nbformat_minor": 4
}
