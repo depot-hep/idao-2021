{
 "cells": [
  {
   "cell_type": "code",
   "execution_count": 75,
   "metadata": {},
   "outputs": [],
   "source": [
    "import pandas as pd\n",
    "import numpy as np\n",
    "import matplotlib.pyplot as plt\n",
    "\n",
    "from sklearn import linear_model\n",
    "from sklearn.linear_model import LogisticRegression"
   ]
  },
  {
   "cell_type": "code",
   "execution_count": 2,
   "metadata": {},
   "outputs": [],
   "source": [
    "data_path = 'csv_data/'\n",
    "data_folders = ['NR', 'ER', 'public_test', 'private_test']\n",
    "\n",
    "df_NR = pd.read_csv(data_path + 'df_' + data_folders[0] +'.csv', index_col='Unnamed: 0')\n",
    "df_ER = pd.read_csv(data_path + 'df_' + data_folders[1] +'.csv', index_col='Unnamed: 0')\n",
    "df_public_test = pd.read_csv(data_path + 'df_' + data_folders[2] +'.csv', index_col='Unnamed: 0')\n",
    "df_private_test = pd.read_csv(data_path + 'df_' + data_folders[3] +'.csv', index_col='Unnamed: 0')"
   ]
  },
  {
   "cell_type": "code",
   "execution_count": 60,
   "metadata": {},
   "outputs": [
    {
     "data": {
      "text/plain": [
       "Index(['N_error_x', 'N_error_y', 'N_x', 'N_y', 'bkgr_count_x', 'bkgr_count_y',\n",
       "       'chi2_pvalue_x', 'chi2_pvalue_y', 'chi2_x', 'chi2_y', 'dfr', 'dmu',\n",
       "       'dsigma', 'edm_x', 'edm_y', 'event_ID', 'event_angle', 'event_class',\n",
       "       'event_energy', 'fr_error_x', 'fr_error_y', 'fr_x', 'fr_y', 'fval_x',\n",
       "       'fval_y', 'has_accurate_covar_x', 'has_accurate_covar_y',\n",
       "       'has_covariance_x', 'has_covariance_y', 'has_made_posdef_covar_x',\n",
       "       'has_made_posdef_covar_y', 'has_parameters_at_limit_x',\n",
       "       'has_parameters_at_limit_y', 'has_posdef_covar_x', 'has_posdef_covar_y',\n",
       "       'has_reached_call_limit_x', 'has_reached_call_limit_y',\n",
       "       'has_valid_parameters_x', 'has_valid_parameters_y', 'hesse_failed_x',\n",
       "       'hesse_failed_y', 'image_name', 'is_above_max_edm_x',\n",
       "       'is_above_max_edm_y', 'is_valid_x', 'is_valid_y', 'mu_error_x',\n",
       "       'mu_error_y', 'mu_x', 'mu_y', 'n_excess_bins_x', 'n_excess_bins_y',\n",
       "       'nfcn_total_x', 'nfcn_total_y', 'nfcn_x', 'nfcn_y', 'ngrad_total_x',\n",
       "       'ngrad_total_y', 'ngrad_x', 'ngrad_y', 'sig_count_x', 'sig_count_y',\n",
       "       'sig_density_x', 'sig_density_y', 'sigma_error_x', 'sigma_error_y',\n",
       "       'sigma_x', 'sigma_y', 'tolerance_x', 'tolerance_y', 'up_x', 'up_y'],\n",
       "      dtype='object')"
      ]
     },
     "execution_count": 60,
     "metadata": {},
     "output_type": "execute_result"
    }
   ],
   "source": [
    "df_NR.columns"
   ]
  },
  {
   "cell_type": "code",
   "execution_count": 66,
   "metadata": {},
   "outputs": [],
   "source": [
    "feat_list = ['N_error_x', 'N_error_y', 'N_x', 'N_y', 'bkgr_count_x', 'bkgr_count_y',\n",
    "       'chi2_pvalue_x', 'chi2_pvalue_y', 'chi2_x', 'chi2_y', 'dfr', 'dmu',\n",
    "       'dsigma', 'edm_x', 'edm_y', 'fr_error_x', 'fr_error_y', 'fr_x', 'fr_y', 'fval_x',\n",
    "       'fval_y']\n",
    "# NR_label = 1\n",
    "# ER_label = 0"
   ]
  },
  {
   "cell_type": "code",
   "execution_count": 91,
   "metadata": {},
   "outputs": [],
   "source": [
    "df_train = df_NR[feat_list]\n",
    "df_train = df_train.append(df_ER[feat_list], ignore_index=True)\n",
    "y_train_energies = np.append(np.array(df_NR['event_energy'].values), np.array(df_ER['event_energy'].values))\n",
    "y_train_classes = np.array([i<len(df_NR) for i in range(len(df_NR) + len(df_ER))], dtype=np.int)"
   ]
  },
  {
   "cell_type": "code",
   "execution_count": 81,
   "metadata": {},
   "outputs": [],
   "source": [
    "df_test = df_public_test[feat_list]\n",
    "df_test = df_test.append(df_private_test[feat_list], ignore_index=True)"
   ]
  },
  {
   "cell_type": "markdown",
   "metadata": {},
   "source": [
    "### regression"
   ]
  },
  {
   "cell_type": "code",
   "execution_count": 106,
   "metadata": {},
   "outputs": [],
   "source": [
    "reg = linear_model.LinearRegression().fit(df_train.values, y_train_energies)\n",
    "reg_pred = reg.predict(df_test.values)"
   ]
  },
  {
   "cell_type": "code",
   "execution_count": 107,
   "metadata": {},
   "outputs": [],
   "source": [
    "reg_pred[reg_pred < 1] = 1\n",
    "reg_pred[reg_pred > 30] = 30"
   ]
  },
  {
   "cell_type": "code",
   "execution_count": 108,
   "metadata": {},
   "outputs": [
    {
     "data": {
      "text/plain": [
       "(array([  62.,  340., 6197., 8416., 1292.,   54.,   27.,   50.,   39.,\n",
       "          86.]),\n",
       " array([ 1. ,  3.9,  6.8,  9.7, 12.6, 15.5, 18.4, 21.3, 24.2, 27.1, 30. ]),\n",
       " <a list of 10 Patch objects>)"
      ]
     },
     "execution_count": 108,
     "metadata": {},
     "output_type": "execute_result"
    },
    {
     "data": {
      "image/png": "[encoded data removed]",
      "text/plain": [
       "<Figure size 432x288 with 1 Axes>"
      ]
     },
     "metadata": {
      "needs_background": "light"
     },
     "output_type": "display_data"
    }
   ],
   "source": [
    "plt.hist(reg_pred)"
   ]
  },
  {
   "cell_type": "markdown",
   "metadata": {},
   "source": [
    "### classification"
   ]
  },
  {
   "cell_type": "code",
   "execution_count": 118,
   "metadata": {},
   "outputs": [],
   "source": [
    "log_res = LogisticRegression(max_iter=1000).fit(df_train.values, y_train_classes)\n",
    "cl_pred = log_res.predict(df_test.values)"
   ]
  },
  {
   "cell_type": "code",
   "execution_count": 120,
   "metadata": {},
   "outputs": [],
   "source": [
    "im_names = np.append(df_public_test['image_name'].values, df_private_test['image_name'].values)\n",
    "\n",
    "# np.random.seed(10)\n",
    "# reg_pred = 29*np.random.random_sample(size=16563) + 1\n",
    "# cl_pred = np.random.randint(2, size=16563)"
   ]
  },
  {
   "cell_type": "code",
   "execution_count": 125,
   "metadata": {},
   "outputs": [],
   "source": [
    "def generate_submission(cl_pred, reg_pred, im_names, submission_name):\n",
    "    \n",
    "    sample_submission = pd.read_csv(data_path + 'track1_predictions_example.csv')\n",
    "    \n",
    "    # create dataframe\n",
    "    submission = pd.DataFrame(columns=sample_submission.columns)\n",
    "    submission['id'] = im_names\n",
    "    submission['classification_predictions'] = cl_pred\n",
    "    submission['regression_predictions'] = reg_pred\n",
    "\n",
    "    # add an entry that was exluded from the private test dataset by the 'try-except' method\n",
    "    submission = submission.append(submission.iloc[len(submission)-1], ignore_index=True)\n",
    "    submission['id'].iloc[len(submission)-1]  = '057f420d13253901195b932f1c9e933361e362d3'\n",
    "    submission['classification_predictions'].iloc[len(submission)-1]  = 0 #ER\n",
    "    submission['regression_predictions'].iloc[len(submission)-1]  = 1\n",
    "\n",
    "    # sort values by id\n",
    "    idx = submission.index\n",
    "    submission.sort_values('id', inplace=True)\n",
    "    submission.index = idx\n",
    "    \n",
    "    # save to csv\n",
    "    submission.to_csv(submission_name + '.csv', index=False, header=True)"
   ]
  },
  {
   "cell_type": "code",
   "execution_count": 126,
   "metadata": {},
   "outputs": [],
   "source": [
    "generate_submission(cl_pred, reg_pred, im_names, 'linear_models_submission')"
   ]
  },
  {
   "cell_type": "code",
   "execution_count": 77,
   "metadata": {},
   "outputs": [],
   "source": [
    "# energies = [1,3,6,10,20,30]\n",
    "# NR_train_energies = [1,6,20]\n",
    "# ER_train_energies = [3,10,30]\n",
    "# value_NR = [np.median(df_NR[df_NR['event_energy'] == e]['dmu']) for e in NR_train_energies]\n",
    "# value_ER = [np.median(df_ER[df_ER['event_energy'] == e]['dmu']) for e in ER_train_energies]\n",
    "# std_NR = [np.std(df_NR[df_NR['event_energy'] == e]['dmu']) for e in NR_train_energies]\n",
    "# std_ER = [np.std(df_ER[df_ER['event_energy'] == e]['dmu']) for e in ER_train_energies]\n",
    "# #plt.hist(df_ER[df_ER['event_energy'] == 30]['N_x'])"
   ]
  },
  {
   "cell_type": "code",
   "execution_count": 92,
   "metadata": {},
   "outputs": [],
   "source": [
    "# plt.bar(x=NR_train_energies, height=value_NR, align='center', alpha=0.5)\n",
    "# plt.ylim((-, 1))"
   ]
  },
  {
   "cell_type": "markdown",
   "metadata": {},
   "source": [
    " "
   ]
  }
 ],
 "metadata": {
  "kernelspec": {
   "display_name": "Python 3",
   "language": "python",
   "name": "python3"
  },
  "language_info": {
   "codemirror_mode": {
    "name": "ipython",
    "version": 3
   },
   "file_extension": ".py",
   "mimetype": "text/x-python",
   "name": "python",
   "nbconvert_exporter": "python",
   "pygments_lexer": "ipython3",
   "version": "3.6.8"
  }
 },
 "nbformat": 4,
 "nbformat_minor": 4
}
