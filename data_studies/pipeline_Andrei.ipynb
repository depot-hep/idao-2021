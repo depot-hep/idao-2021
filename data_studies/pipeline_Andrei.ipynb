{
 "cells": [
  {
   "cell_type": "code",
   "execution_count": 30,
   "metadata": {},
   "outputs": [],
   "source": [
    "import numpy as np\n",
    "import pandas as pd\n",
    "import shap\n",
    "import seaborn as sns\n",
    "import matplotlib.pyplot as plt\n",
    "sns.set(rc={'figure.figsize':(11.7,8.27)})\n",
    "\n",
    "import lightgbm as lgb\n",
    "\n",
    "from sklearn.metrics import roc_auc_score, confusion_matrix, plot_confusion_matrix, classification_report\n",
    "from sklearn.model_selection import cross_validate\n",
    "\n",
    "from utils import *\n",
    "from aux_functions import *"
   ]
  },
  {
   "cell_type": "code",
   "execution_count": 2,
   "metadata": {},
   "outputs": [],
   "source": [
    "data_folder =  'csv_data/'\n",
    "suffix = ''\n",
    "\n",
    "df_public = pd.read_csv(data_folder + 'df_public_test' + suffix +'.csv', index_col='Unnamed: 0')\n",
    "df_private = pd.read_csv(data_folder + 'df_private_test' + suffix +'.csv', index_col='Unnamed: 0')\n",
    "df_ER = pd.read_csv(data_folder + 'df_ER' + suffix +'.csv', index_col='Unnamed: 0')\n",
    "df_NR = pd.read_csv(data_folder + 'df_NR' + suffix +'.csv', index_col='Unnamed: 0')\n",
    "\n",
    "df_NR['abs_dmu_x'] = np.abs(df_NR['mu_x'] - 288)\n",
    "df_NR['abs_dmu_y'] = np.abs(df_NR['mu_y'] - 288)\n",
    "\n",
    "df_ER['abs_dmu_x'] = np.abs(df_ER['mu_x'] - 288)\n",
    "df_ER['abs_dmu_y'] = np.abs(df_ER['mu_y'] - 288)\n",
    "\n",
    "df_public['abs_dmu_x'] = np.abs(df_public['mu_x'] - 288)\n",
    "df_public['abs_dmu_y'] = np.abs(df_public['mu_y'] - 288)\n",
    "\n",
    "df_private['abs_dmu_x'] = np.abs(df_private['mu_x'] - 288)\n",
    "df_private['abs_dmu_y'] = np.abs(df_private['mu_y'] - 288)\n",
    "\n",
    "df = pd.concat([df_NR, df_ER])"
   ]
  },
  {
   "cell_type": "code",
   "execution_count": 3,
   "metadata": {},
   "outputs": [],
   "source": [
    "params = {\n",
    "    'boosting_type': 'gbdt',\n",
    "    'objective': 'binary',\n",
    "    'metric': 'binary_logloss',\n",
    "    'max_depth': 4,\n",
    "    'learning_rate': 0.1,\n",
    "    'feature_fraction': 0.9,\n",
    "    'bagging_fraction': 0.8,\n",
    "    'bagging_freq': 5,\n",
    "    'verbose': -1,\n",
    "    'early_stopping_rounds': 10\n",
    "}\n",
    "\n",
    "wiggly_vars = [\n",
    "              'chi2_pvalue_x', 'chi2_pvalue_y', \n",
    "              'abs_dmu_x', 'abs_dmu_y' \n",
    "              ]\n",
    "MID_clf_vars = ['sigma_y']\n",
    "LOW_clf_vars = ['sigma_y']\n",
    "\n",
    "a, b = fit_line(df)"
   ]
  },
  {
   "cell_type": "markdown",
   "metadata": {},
   "source": [
    "# High Energies (HE)"
   ]
  },
  {
   "cell_type": "code",
   "execution_count": 4,
   "metadata": {
    "collapsed": true,
    "jupyter": {
     "outputs_hidden": true
    }
   },
   "outputs": [
    {
     "name": "stdout",
     "output_type": "stream",
     "text": [
      "[1]\tvalid_0's binary_logloss: 0.598701\n",
      "Training until validation scores don't improve for 10 rounds\n",
      "[2]\tvalid_0's binary_logloss: 0.521372\n",
      "[3]\tvalid_0's binary_logloss: 0.456511\n",
      "[4]\tvalid_0's binary_logloss: 0.401695\n",
      "[5]\tvalid_0's binary_logloss: 0.354887\n",
      "[6]\tvalid_0's binary_logloss: 0.314776\n",
      "[7]\tvalid_0's binary_logloss: 0.27999\n",
      "[8]\tvalid_0's binary_logloss: 0.249393\n",
      "[9]\tvalid_0's binary_logloss: 0.222585\n",
      "[10]\tvalid_0's binary_logloss: 0.199078\n",
      "[11]\tvalid_0's binary_logloss: 0.178256\n",
      "[12]\tvalid_0's binary_logloss: 0.159822\n",
      "[13]\tvalid_0's binary_logloss: 0.143467\n",
      "[14]\tvalid_0's binary_logloss: 0.128919\n",
      "[15]\tvalid_0's binary_logloss: 0.115959\n",
      "[16]\tvalid_0's binary_logloss: 0.104464\n",
      "[17]\tvalid_0's binary_logloss: 0.0941166\n",
      "[18]\tvalid_0's binary_logloss: 0.084918\n",
      "[19]\tvalid_0's binary_logloss: 0.0766048\n",
      "[20]\tvalid_0's binary_logloss: 0.0691496\n",
      "[21]\tvalid_0's binary_logloss: 0.0624295\n",
      "[22]\tvalid_0's binary_logloss: 0.0564012\n",
      "[23]\tvalid_0's binary_logloss: 0.0509771\n",
      "[24]\tvalid_0's binary_logloss: 0.0460985\n",
      "[25]\tvalid_0's binary_logloss: 0.041708\n",
      "[26]\tvalid_0's binary_logloss: 0.0377288\n",
      "[27]\tvalid_0's binary_logloss: 0.0341469\n",
      "[28]\tvalid_0's binary_logloss: 0.0309216\n",
      "[29]\tvalid_0's binary_logloss: 0.0280162\n",
      "[30]\tvalid_0's binary_logloss: 0.0253979\n",
      "[31]\tvalid_0's binary_logloss: 0.022965\n",
      "[32]\tvalid_0's binary_logloss: 0.0207717\n",
      "[33]\tvalid_0's binary_logloss: 0.0187885\n",
      "[34]\tvalid_0's binary_logloss: 0.0169998\n",
      "[35]\tvalid_0's binary_logloss: 0.0153877\n",
      "[36]\tvalid_0's binary_logloss: 0.0139759\n",
      "[37]\tvalid_0's binary_logloss: 0.0126994\n",
      "[38]\tvalid_0's binary_logloss: 0.0115482\n",
      "[39]\tvalid_0's binary_logloss: 0.01051\n",
      "[40]\tvalid_0's binary_logloss: 0.00957383\n",
      "[41]\tvalid_0's binary_logloss: 0.00873084\n",
      "[42]\tvalid_0's binary_logloss: 0.00797109\n",
      "[43]\tvalid_0's binary_logloss: 0.0072758\n",
      "[44]\tvalid_0's binary_logloss: 0.00665904\n",
      "[45]\tvalid_0's binary_logloss: 0.00609339\n",
      "[46]\tvalid_0's binary_logloss: 0.00546142\n",
      "[47]\tvalid_0's binary_logloss: 0.00493323\n",
      "[48]\tvalid_0's binary_logloss: 0.00446991\n",
      "[49]\tvalid_0's binary_logloss: 0.0040584\n",
      "[50]\tvalid_0's binary_logloss: 0.00366156\n",
      "[51]\tvalid_0's binary_logloss: 0.00331682\n",
      "[52]\tvalid_0's binary_logloss: 0.00301044\n",
      "[53]\tvalid_0's binary_logloss: 0.00273734\n",
      "[54]\tvalid_0's binary_logloss: 0.00249359\n",
      "[55]\tvalid_0's binary_logloss: 0.00227593\n",
      "[56]\tvalid_0's binary_logloss: 0.00208453\n",
      "[57]\tvalid_0's binary_logloss: 0.00191352\n",
      "[58]\tvalid_0's binary_logloss: 0.00176092\n",
      "[59]\tvalid_0's binary_logloss: 0.001625\n",
      "[60]\tvalid_0's binary_logloss: 0.00150416\n",
      "[61]\tvalid_0's binary_logloss: 0.00139201\n",
      "[62]\tvalid_0's binary_logloss: 0.00129275\n",
      "[63]\tvalid_0's binary_logloss: 0.00120458\n",
      "[64]\tvalid_0's binary_logloss: 0.0011268\n",
      "[65]\tvalid_0's binary_logloss: 0.00105856\n",
      "[66]\tvalid_0's binary_logloss: 0.000944216\n",
      "[67]\tvalid_0's binary_logloss: 0.000844701\n",
      "[68]\tvalid_0's binary_logloss: 0.000755976\n",
      "[69]\tvalid_0's binary_logloss: 0.000678153\n",
      "[70]\tvalid_0's binary_logloss: 0.000609357\n",
      "[71]\tvalid_0's binary_logloss: 0.000572541\n",
      "[72]\tvalid_0's binary_logloss: 0.000540739\n",
      "[73]\tvalid_0's binary_logloss: 0.000513527\n",
      "[74]\tvalid_0's binary_logloss: 0.000490519\n",
      "[75]\tvalid_0's binary_logloss: 0.000470424\n",
      "[76]\tvalid_0's binary_logloss: 0.000418837\n",
      "[77]\tvalid_0's binary_logloss: 0.000373666\n",
      "[78]\tvalid_0's binary_logloss: 0.000334261\n",
      "[79]\tvalid_0's binary_logloss: 0.00029962\n",
      "[80]\tvalid_0's binary_logloss: 0.000268981\n",
      "[81]\tvalid_0's binary_logloss: 0.000241718\n",
      "[82]\tvalid_0's binary_logloss: 0.00021744\n",
      "[83]\tvalid_0's binary_logloss: 0.000195767\n",
      "[84]\tvalid_0's binary_logloss: 0.000176381\n",
      "[85]\tvalid_0's binary_logloss: 0.000159014\n",
      "[86]\tvalid_0's binary_logloss: 0.00014454\n",
      "[87]\tvalid_0's binary_logloss: 0.000131632\n",
      "[88]\tvalid_0's binary_logloss: 0.000120113\n",
      "[89]\tvalid_0's binary_logloss: 0.000109455\n",
      "[90]\tvalid_0's binary_logloss: 9.99732e-05\n",
      "[91]\tvalid_0's binary_logloss: 9.15835e-05\n",
      "[92]\tvalid_0's binary_logloss: 8.4163e-05\n",
      "[93]\tvalid_0's binary_logloss: 7.76272e-05\n",
      "[94]\tvalid_0's binary_logloss: 7.19021e-05\n",
      "[95]\tvalid_0's binary_logloss: 6.69232e-05\n",
      "[96]\tvalid_0's binary_logloss: 6.04773e-05\n",
      "[97]\tvalid_0's binary_logloss: 5.46594e-05\n",
      "[98]\tvalid_0's binary_logloss: 4.9407e-05\n",
      "[99]\tvalid_0's binary_logloss: 4.46639e-05\n",
      "[100]\tvalid_0's binary_logloss: 4.03799e-05\n",
      "[101]\tvalid_0's binary_logloss: 3.78895e-05\n",
      "[102]\tvalid_0's binary_logloss: 3.57737e-05\n",
      "[103]\tvalid_0's binary_logloss: 3.40096e-05\n",
      "[104]\tvalid_0's binary_logloss: 3.25778e-05\n",
      "[105]\tvalid_0's binary_logloss: 3.13166e-05\n",
      "[106]\tvalid_0's binary_logloss: 2.8314e-05\n",
      "[107]\tvalid_0's binary_logloss: 2.56032e-05\n",
      "[108]\tvalid_0's binary_logloss: 2.31555e-05\n",
      "[109]\tvalid_0's binary_logloss: 2.09452e-05\n",
      "[110]\tvalid_0's binary_logloss: 1.89491e-05\n",
      "[111]\tvalid_0's binary_logloss: 1.8391e-05\n",
      "[112]\tvalid_0's binary_logloss: 1.80132e-05\n",
      "[113]\tvalid_0's binary_logloss: 1.7811e-05\n",
      "[114]\tvalid_0's binary_logloss: 1.77814e-05\n",
      "[115]\tvalid_0's binary_logloss: 1.718e-05\n",
      "[116]\tvalid_0's binary_logloss: 1.55951e-05\n",
      "[117]\tvalid_0's binary_logloss: 1.41679e-05\n",
      "[118]\tvalid_0's binary_logloss: 1.28825e-05\n",
      "[119]\tvalid_0's binary_logloss: 1.17274e-05\n",
      "[120]\tvalid_0's binary_logloss: 1.06848e-05\n",
      "[121]\tvalid_0's binary_logloss: 1.08244e-05\n",
      "[122]\tvalid_0's binary_logloss: 1.10657e-05\n",
      "[123]\tvalid_0's binary_logloss: 1.14104e-05\n",
      "[124]\tvalid_0's binary_logloss: 1.18612e-05\n",
      "[125]\tvalid_0's binary_logloss: 1.21297e-05\n",
      "[126]\tvalid_0's binary_logloss: 1.10414e-05\n",
      "[127]\tvalid_0's binary_logloss: 1.00627e-05\n",
      "[128]\tvalid_0's binary_logloss: 9.1826e-06\n",
      "[129]\tvalid_0's binary_logloss: 8.39096e-06\n",
      "[130]\tvalid_0's binary_logloss: 7.67658e-06\n",
      "[131]\tvalid_0's binary_logloss: 8.03891e-06\n",
      "[132]\tvalid_0's binary_logloss: 8.47594e-06\n",
      "[133]\tvalid_0's binary_logloss: 8.99147e-06\n",
      "[134]\tvalid_0's binary_logloss: 9.59003e-06\n",
      "[135]\tvalid_0's binary_logloss: 9.55732e-06\n",
      "[136]\tvalid_0's binary_logloss: 8.71796e-06\n",
      "[137]\tvalid_0's binary_logloss: 7.96475e-06\n",
      "[138]\tvalid_0's binary_logloss: 7.28173e-06\n",
      "[139]\tvalid_0's binary_logloss: 6.66946e-06\n",
      "[140]\tvalid_0's binary_logloss: 6.09264e-06\n",
      "[141]\tvalid_0's binary_logloss: 5.58573e-06\n",
      "[142]\tvalid_0's binary_logloss: 5.13324e-06\n",
      "[143]\tvalid_0's binary_logloss: 4.73037e-06\n",
      "[144]\tvalid_0's binary_logloss: 4.38792e-06\n",
      "[145]\tvalid_0's binary_logloss: 4.08123e-06\n",
      "[146]\tvalid_0's binary_logloss: 4.16506e-06\n",
      "[147]\tvalid_0's binary_logloss: 4.25375e-06\n",
      "[148]\tvalid_0's binary_logloss: 4.53257e-06\n",
      "[149]\tvalid_0's binary_logloss: 4.84471e-06\n",
      "[150]\tvalid_0's binary_logloss: 5.10185e-06\n",
      "[151]\tvalid_0's binary_logloss: 4.69781e-06\n",
      "[152]\tvalid_0's binary_logloss: 4.3375e-06\n",
      "[153]\tvalid_0's binary_logloss: 4.01812e-06\n",
      "[154]\tvalid_0's binary_logloss: 3.73613e-06\n",
      "[155]\tvalid_0's binary_logloss: 3.48845e-06\n",
      "[156]\tvalid_0's binary_logloss: 3.20417e-06\n",
      "[157]\tvalid_0's binary_logloss: 2.94892e-06\n",
      "[158]\tvalid_0's binary_logloss: 2.72658e-06\n",
      "[159]\tvalid_0's binary_logloss: 2.52059e-06\n",
      "[160]\tvalid_0's binary_logloss: 2.34143e-06\n",
      "[161]\tvalid_0's binary_logloss: 2.18342e-06\n",
      "[162]\tvalid_0's binary_logloss: 2.03917e-06\n",
      "[163]\tvalid_0's binary_logloss: 1.91359e-06\n",
      "[164]\tvalid_0's binary_logloss: 1.79851e-06\n",
      "[165]\tvalid_0's binary_logloss: 1.69979e-06\n",
      "[166]\tvalid_0's binary_logloss: 1.60341e-06\n",
      "[167]\tvalid_0's binary_logloss: 1.51969e-06\n",
      "[168]\tvalid_0's binary_logloss: 1.44525e-06\n",
      "[169]\tvalid_0's binary_logloss: 1.38063e-06\n",
      "[170]\tvalid_0's binary_logloss: 1.32557e-06\n",
      "[171]\tvalid_0's binary_logloss: 1.26844e-06\n",
      "[172]\tvalid_0's binary_logloss: 1.21991e-06\n",
      "[173]\tvalid_0's binary_logloss: 1.17897e-06\n",
      "[174]\tvalid_0's binary_logloss: 1.11596e-06\n",
      "[175]\tvalid_0's binary_logloss: 1.08191e-06\n",
      "[176]\tvalid_0's binary_logloss: 1.08191e-06\n",
      "[177]\tvalid_0's binary_logloss: 1.04441e-06\n",
      "[178]\tvalid_0's binary_logloss: 1.01575e-06\n",
      "[179]\tvalid_0's binary_logloss: 9.85418e-07\n",
      "[180]\tvalid_0's binary_logloss: 9.62551e-07\n",
      "[181]\tvalid_0's binary_logloss: 9.38073e-07\n",
      "[182]\tvalid_0's binary_logloss: 8.99862e-07\n",
      "[183]\tvalid_0's binary_logloss: 8.66028e-07\n",
      "[184]\tvalid_0's binary_logloss: 8.36073e-07\n",
      "[185]\tvalid_0's binary_logloss: 8.09833e-07\n",
      "[186]\tvalid_0's binary_logloss: 7.80458e-07\n",
      "[187]\tvalid_0's binary_logloss: 7.65999e-07\n",
      "[188]\tvalid_0's binary_logloss: 7.54223e-07\n",
      "[189]\tvalid_0's binary_logloss: 7.44726e-07\n",
      "[190]\tvalid_0's binary_logloss: 7.40565e-07\n",
      "[191]\tvalid_0's binary_logloss: 7.33646e-07\n",
      "[192]\tvalid_0's binary_logloss: 7.1081e-07\n",
      "[193]\tvalid_0's binary_logloss: 6.92654e-07\n",
      "[194]\tvalid_0's binary_logloss: 6.80389e-07\n",
      "[195]\tvalid_0's binary_logloss: 6.72019e-07\n",
      "[196]\tvalid_0's binary_logloss: 6.68021e-07\n",
      "[197]\tvalid_0's binary_logloss: 6.68021e-07\n",
      "[198]\tvalid_0's binary_logloss: 6.68021e-07\n",
      "[199]\tvalid_0's binary_logloss: 6.60681e-07\n",
      "[200]\tvalid_0's binary_logloss: 6.50968e-07\n",
      "[201]\tvalid_0's binary_logloss: 6.42975e-07\n",
      "[202]\tvalid_0's binary_logloss: 6.36439e-07\n",
      "[203]\tvalid_0's binary_logloss: 6.31079e-07\n",
      "[204]\tvalid_0's binary_logloss: 6.30348e-07\n",
      "[205]\tvalid_0's binary_logloss: 6.30311e-07\n",
      "[206]\tvalid_0's binary_logloss: 6.3081e-07\n",
      "[207]\tvalid_0's binary_logloss: 6.29219e-07\n",
      "[208]\tvalid_0's binary_logloss: 6.27988e-07\n",
      "[209]\tvalid_0's binary_logloss: 6.27988e-07\n",
      "[210]\tvalid_0's binary_logloss: 6.21411e-07\n",
      "[211]\tvalid_0's binary_logloss: 6.16423e-07\n",
      "[212]\tvalid_0's binary_logloss: 6.12844e-07\n",
      "[213]\tvalid_0's binary_logloss: 6.10315e-07\n",
      "[214]\tvalid_0's binary_logloss: 6.08675e-07\n",
      "[215]\tvalid_0's binary_logloss: 6.00737e-07\n",
      "[216]\tvalid_0's binary_logloss: 5.94161e-07\n",
      "[217]\tvalid_0's binary_logloss: 5.8872e-07\n",
      "[218]\tvalid_0's binary_logloss: 5.8445e-07\n",
      "[219]\tvalid_0's binary_logloss: 5.80673e-07\n",
      "[220]\tvalid_0's binary_logloss: 5.80673e-07\n",
      "[221]\tvalid_0's binary_logloss: 5.77408e-07\n",
      "[222]\tvalid_0's binary_logloss: 5.74769e-07\n",
      "[223]\tvalid_0's binary_logloss: 5.7246e-07\n",
      "[224]\tvalid_0's binary_logloss: 5.70015e-07\n",
      "[225]\tvalid_0's binary_logloss: 5.67921e-07\n",
      "[226]\tvalid_0's binary_logloss: 5.67921e-07\n",
      "[227]\tvalid_0's binary_logloss: 5.67921e-07\n",
      "[228]\tvalid_0's binary_logloss: 5.66168e-07\n",
      "[229]\tvalid_0's binary_logloss: 5.64775e-07\n",
      "[230]\tvalid_0's binary_logloss: 5.63673e-07\n",
      "[231]\tvalid_0's binary_logloss: 5.62805e-07\n",
      "[232]\tvalid_0's binary_logloss: 5.62114e-07\n",
      "[233]\tvalid_0's binary_logloss: 5.59062e-07\n",
      "[234]\tvalid_0's binary_logloss: 5.56504e-07\n",
      "[235]\tvalid_0's binary_logloss: 5.54354e-07\n",
      "[236]\tvalid_0's binary_logloss: 5.53827e-07\n",
      "[237]\tvalid_0's binary_logloss: 5.51956e-07\n",
      "[238]\tvalid_0's binary_logloss: 5.51956e-07\n",
      "[239]\tvalid_0's binary_logloss: 5.51055e-07\n",
      "[240]\tvalid_0's binary_logloss: 5.50326e-07\n",
      "[241]\tvalid_0's binary_logloss: 5.49737e-07\n",
      "[242]\tvalid_0's binary_logloss: 5.49267e-07\n",
      "[243]\tvalid_0's binary_logloss: 5.48881e-07\n",
      "[244]\tvalid_0's binary_logloss: 5.46675e-07\n",
      "[245]\tvalid_0's binary_logloss: 5.44832e-07\n",
      "[246]\tvalid_0's binary_logloss: 5.43292e-07\n",
      "[247]\tvalid_0's binary_logloss: 5.42002e-07\n",
      "[248]\tvalid_0's binary_logloss: 5.4092e-07\n",
      "[249]\tvalid_0's binary_logloss: 5.4092e-07\n",
      "[250]\tvalid_0's binary_logloss: 5.39852e-07\n",
      "[251]\tvalid_0's binary_logloss: 5.39024e-07\n",
      "[252]\tvalid_0's binary_logloss: 5.39219e-07\n",
      "[253]\tvalid_0's binary_logloss: 5.39412e-07\n",
      "[254]\tvalid_0's binary_logloss: 5.396e-07\n",
      "[255]\tvalid_0's binary_logloss: 5.37386e-07\n",
      "[256]\tvalid_0's binary_logloss: 5.35568e-07\n",
      "[257]\tvalid_0's binary_logloss: 5.34073e-07\n",
      "[258]\tvalid_0's binary_logloss: 5.32844e-07\n",
      "[259]\tvalid_0's binary_logloss: 5.31786e-07\n",
      "[260]\tvalid_0's binary_logloss: 5.31786e-07\n",
      "[261]\tvalid_0's binary_logloss: 5.31786e-07\n",
      "[262]\tvalid_0's binary_logloss: 5.31786e-07\n",
      "[263]\tvalid_0's binary_logloss: 5.31786e-07\n",
      "[264]\tvalid_0's binary_logloss: 5.31372e-07\n",
      "[265]\tvalid_0's binary_logloss: 5.31054e-07\n",
      "[266]\tvalid_0's binary_logloss: 5.31054e-07\n",
      "[267]\tvalid_0's binary_logloss: 5.31054e-07\n",
      "[268]\tvalid_0's binary_logloss: 5.31054e-07\n",
      "[269]\tvalid_0's binary_logloss: 5.31054e-07\n",
      "[270]\tvalid_0's binary_logloss: 5.31054e-07\n",
      "[271]\tvalid_0's binary_logloss: 5.31054e-07\n",
      "[272]\tvalid_0's binary_logloss: 5.31054e-07\n",
      "[273]\tvalid_0's binary_logloss: 5.31054e-07\n",
      "[274]\tvalid_0's binary_logloss: 5.31054e-07\n",
      "[275]\tvalid_0's binary_logloss: 5.31054e-07\n",
      "Early stopping, best iteration is:\n",
      "[265]\tvalid_0's binary_logloss: 5.31054e-07\n"
     ]
    },
    {
     "name": "stderr",
     "output_type": "stream",
     "text": [
      "Found `early_stopping_rounds` in params. Will use it instead of argument\n"
     ]
    }
   ],
   "source": [
    "df_20 = df[df['event_energy'] == 20]\n",
    "df_20 = df_20.query('event_class != \"ER\"')\n",
    "df_30 = df[df['event_energy'] == 30]\n",
    "df_30 = df_30.query('event_class != \"NR\"')\n",
    "df_w_vs_all = pd.concat([df_20,df_30])\n",
    "\n",
    "X = df_w_vs_all[wiggly_vars]\n",
    "y = df_w_vs_all['event_energy'] == 30\n",
    "\n",
    "lgb_train = lgb.Dataset(X, y, free_raw_data=False)\n",
    "lgb_eval = lgb.Dataset(X, y, reference=lgb_train)\n",
    "\n",
    "HE_clf = lgb.train(\n",
    "                params,\n",
    "                lgb_train,\n",
    "                num_boost_round=1000,\n",
    "                valid_sets=lgb_eval,\n",
    "                verbose_eval=True,\n",
    "               )\n"
   ]
  },
  {
   "cell_type": "code",
   "execution_count": 5,
   "metadata": {},
   "outputs": [
    {
     "name": "stdout",
     "output_type": "stream",
     "text": [
      "[0.99999999 0.99999997]\n",
      "[1.37109072e-08 1.36715695e-07]\n"
     ]
    }
   ],
   "source": [
    "print(HE_clf.predict(df.query('event_energy == 20 and event_class == \"ER\"')[wiggly_vars]))\n",
    "print(HE_clf.predict(df.query('event_energy == 30 and event_class == \"NR\"')[wiggly_vars]))"
   ]
  },
  {
   "cell_type": "markdown",
   "metadata": {},
   "source": [
    "#### public"
   ]
  },
  {
   "cell_type": "code",
   "execution_count": 6,
   "metadata": {},
   "outputs": [],
   "source": [
    "E_pred_public = invert_regr(a, b, df_public['sig_count_y'].values)\n",
    "idx_HE_public = [i for i in range(len(E_pred_public)) if E_pred_public[i] >= 14]"
   ]
  },
  {
   "cell_type": "code",
   "execution_count": 7,
   "metadata": {},
   "outputs": [],
   "source": [
    "HE_cl_pred_public = np.array(list(HE_clf.predict(df_public.iloc[idx_HE_public][wiggly_vars])))\n",
    "HE_reg_pred_public = np.array([30 if HE_cl_pred_public[i]>0.5 else 20 for i in range(len(idx_HE_public))])\n",
    "HE_im_names_public = np.array(list(df_public.iloc[idx_HE_public]['image_name'].values))"
   ]
  },
  {
   "cell_type": "markdown",
   "metadata": {},
   "source": [
    "#### private"
   ]
  },
  {
   "cell_type": "code",
   "execution_count": 8,
   "metadata": {},
   "outputs": [],
   "source": [
    "E_pred_private = invert_regr(a, b, df_private['sig_count_y'].values)\n",
    "idx_HE_private = [i for i in range(len(E_pred_private)) if E_pred_private[i] >= 14]"
   ]
  },
  {
   "cell_type": "code",
   "execution_count": 9,
   "metadata": {},
   "outputs": [],
   "source": [
    "HE_cl_pred = np.array(list(HE_clf.predict(df_private.iloc[idx_HE_private][wiggly_vars])))\n",
    "HE_reg_pred = np.array([20 if HE_cl_pred[i]>0.5 else 30 for i in range(len(idx_HE_private))])\n",
    "HE_im_names = np.array(list(df_private.iloc[idx_HE_private]['image_name'].values))"
   ]
  },
  {
   "cell_type": "markdown",
   "metadata": {},
   "source": [
    "## Mid energies"
   ]
  },
  {
   "cell_type": "code",
   "execution_count": 10,
   "metadata": {},
   "outputs": [],
   "source": [
    "MID_clf = Sigma_classifier()"
   ]
  },
  {
   "cell_type": "code",
   "execution_count": 11,
   "metadata": {},
   "outputs": [
    {
     "name": "stdout",
     "output_type": "stream",
     "text": [
      "[0.5736627428329505]\n",
      "[0.40333655461645157, 0.47694434648894934]\n"
     ]
    }
   ],
   "source": [
    "print(MID_clf.predict(df.query('event_energy == 6 and event_class == \"ER\"')[MID_clf_vars]))\n",
    "print(MID_clf.predict(df.query('event_energy == 10 and event_class == \"NR\"')[MID_clf_vars]))"
   ]
  },
  {
   "cell_type": "markdown",
   "metadata": {},
   "source": [
    "#### public"
   ]
  },
  {
   "cell_type": "code",
   "execution_count": 12,
   "metadata": {},
   "outputs": [],
   "source": [
    "E_pred_public = invert_regr(a, b, df_public['sig_count_y'].values)\n",
    "idx_MID_public = [i for i in range(len(E_pred_public)) if E_pred_public[i] > 6 and E_pred_public[i] < 14]"
   ]
  },
  {
   "cell_type": "code",
   "execution_count": 13,
   "metadata": {},
   "outputs": [],
   "source": [
    "MID_cl_pred_public = np.array(list(MID_clf.predict(df_public.iloc[idx_MID_public][MID_clf_vars])))\n",
    "MID_reg_pred_public = np.array([10 if MID_cl_pred_public[i]>0.5 else 6 for i in range(len(idx_MID_public))])\n",
    "MID_im_names_public = np.array(list(df_public.iloc[idx_MID_public]['image_name'].values))"
   ]
  },
  {
   "cell_type": "markdown",
   "metadata": {},
   "source": [
    "#### private"
   ]
  },
  {
   "cell_type": "code",
   "execution_count": 14,
   "metadata": {},
   "outputs": [],
   "source": [
    "E_pred_private = invert_regr(a, b, df_private['sig_count_y'].values)\n",
    "idx_MID_private = [i for i in range(len(E_pred_private)) if E_pred_private[i] > 6 and E_pred_private[i] < 14]"
   ]
  },
  {
   "cell_type": "code",
   "execution_count": 15,
   "metadata": {},
   "outputs": [],
   "source": [
    "MID_cl_pred = np.array(list(MID_clf.predict(df_private.iloc[idx_MID_private][MID_clf_vars])))\n",
    "MID_reg_pred = np.array([6 if MID_cl_pred[i]>0.5 else 10 for i in range(len(idx_MID_private))])\n",
    "MID_im_names = np.array(list(df_private.iloc[idx_MID_private]['image_name'].values))"
   ]
  },
  {
   "cell_type": "markdown",
   "metadata": {},
   "source": [
    "## Low energies"
   ]
  },
  {
   "cell_type": "code",
   "execution_count": 16,
   "metadata": {},
   "outputs": [],
   "source": [
    "LOW_clf = Sigma_classifier(sigma_y_th=5.25)"
   ]
  },
  {
   "cell_type": "code",
   "execution_count": 17,
   "metadata": {},
   "outputs": [
    {
     "name": "stdout",
     "output_type": "stream",
     "text": [
      "[0.6662561911943932, 0.0, 0.8270720783593146]\n",
      "[0.22770937218962195, 0.4063753223558354]\n"
     ]
    }
   ],
   "source": [
    "print(LOW_clf.predict(df.query('event_energy == 1 and event_class == \"ER\"')[LOW_clf_vars]))\n",
    "print(LOW_clf.predict(df.query('event_energy == 3 and event_class == \"NR\"')[LOW_clf_vars]))"
   ]
  },
  {
   "cell_type": "markdown",
   "metadata": {},
   "source": [
    "#### public"
   ]
  },
  {
   "cell_type": "code",
   "execution_count": 18,
   "metadata": {},
   "outputs": [],
   "source": [
    "E_pred_public = invert_regr(a, b, df_public['sig_count_y'].values)\n",
    "idx_LOW_public = [i for i in range(len(E_pred_public)) if E_pred_public[i] <= 6]"
   ]
  },
  {
   "cell_type": "code",
   "execution_count": 19,
   "metadata": {},
   "outputs": [],
   "source": [
    "LOW_cl_pred_public = np.array(list(LOW_clf.predict(df_public.iloc[idx_LOW_public][LOW_clf_vars])))\n",
    "LOW_reg_pred_public = np.array([3 if LOW_cl_pred_public[i]>0.5 else 1 for i in range(len(idx_LOW_public))])\n",
    "LOW_im_names_public = np.array(list(df_public.iloc[idx_LOW_public]['image_name'].values))"
   ]
  },
  {
   "cell_type": "markdown",
   "metadata": {},
   "source": [
    "#### private"
   ]
  },
  {
   "cell_type": "code",
   "execution_count": 20,
   "metadata": {},
   "outputs": [],
   "source": [
    "E_pred_private = invert_regr(a, b, df_private['sig_count_y'].values)\n",
    "idx_LOW_private = [i for i in range(len(E_pred_private)) if E_pred_private[i] <= 6]"
   ]
  },
  {
   "cell_type": "code",
   "execution_count": 21,
   "metadata": {},
   "outputs": [],
   "source": [
    "LOW_cl_pred = np.array(list(LOW_clf.predict(df_private.iloc[idx_LOW_private][LOW_clf_vars])))\n",
    "LOW_reg_pred = np.array([1 if LOW_cl_pred[i]>0.5 else 3 for i in range(len(idx_LOW_private))])\n",
    "LOW_im_names = np.array(list(df_private.iloc[idx_LOW_private]['image_name'].values))"
   ]
  },
  {
   "cell_type": "markdown",
   "metadata": {},
   "source": [
    "### Final adjustments"
   ]
  },
  {
   "cell_type": "code",
   "execution_count": 22,
   "metadata": {},
   "outputs": [],
   "source": [
    "priv_cl_pred = HE_clf.predict(df_private[wiggly_vars])"
   ]
  },
  {
   "cell_type": "code",
   "execution_count": 23,
   "metadata": {},
   "outputs": [],
   "source": [
    "# left tail "
   ]
  },
  {
   "cell_type": "code",
   "execution_count": 24,
   "metadata": {},
   "outputs": [],
   "source": [
    "v1 = [i for i in range(len(priv_cl_pred)) if (priv_cl_pred[i] > 0.5) and (df_private.iloc[i].sig_count_y - b)/a < 1.5 and (df_private.iloc[i].sig_count_x - b)/a > 9]\n",
    "s = list(df_private['image_name'].iloc[v1].values)\n",
    "# t = plot_images('../../idao_dataset/', im_filename=s, max_num_images=100, rand_seed=None)\n",
    "incor_idx = [np.argwhere(LOW_im_names == s[i]).ravel()[0] for i in range(len(s))]\n",
    "LOW_reg_pred[incor_idx] = 20\n",
    "LOW_cl_pred[incor_idx] = 1"
   ]
  },
  {
   "cell_type": "code",
   "execution_count": 25,
   "metadata": {},
   "outputs": [],
   "source": [
    "# right tail"
   ]
  },
  {
   "cell_type": "code",
   "execution_count": 26,
   "metadata": {},
   "outputs": [],
   "source": [
    "v1 = [i for i in range(len(df_private)) if (df_private.iloc[i].sig_count_y - b)/a > 35 and (df_private.iloc[i].sig_count_x - b)/a < 20]\n",
    "s = list(df_private['image_name'].iloc[v1].values)\n",
    "incor_idx = [np.argwhere(HE_im_names == s[i]).ravel()[0] for i in range(len(s))]\n",
    "HE_reg_pred[incor_idx] = 1\n",
    "# t = plot_images('../../idao_dataset/', im_filename=s, max_num_images=37, rand_seed=None)"
   ]
  },
  {
   "cell_type": "code",
   "execution_count": 27,
   "metadata": {},
   "outputs": [],
   "source": [
    "# intersection of NR and ER at high energies"
   ]
  },
  {
   "cell_type": "code",
   "execution_count": 28,
   "metadata": {},
   "outputs": [],
   "source": [
    "v1 = [i for i in range(len(priv_cl_pred)) if (priv_cl_pred[i] < 0.5) and (df_private.iloc[i].sig_count_y - b)/a > 14 and (df_private.iloc[i].sig_count_y - b)/a < 26]\n",
    "s = list(df_private['image_name'].iloc[v1].values)\n",
    "s = [s[0], s[5], s[11]]\n",
    "incor_idx = [np.argwhere(HE_im_names == s[i]).ravel()[0] for i in range(len(s))]\n",
    "HE_reg_pred[incor_idx] = 20\n",
    "HE_cl_pred[incor_idx] = 1\n",
    "# t = plot_images('../../idao_dataset/', im_filename=s, max_num_images=50, rand_seed=None)"
   ]
  },
  {
   "cell_type": "markdown",
   "metadata": {},
   "source": [
    "## Full submission"
   ]
  },
  {
   "cell_type": "code",
   "execution_count": 29,
   "metadata": {},
   "outputs": [],
   "source": [
    "cl_pred = np.append(np.round(LOW_cl_pred_public), np.round(LOW_cl_pred))\n",
    "cl_pred = np.append(cl_pred, np.round(MID_cl_pred_public))\n",
    "cl_pred = np.append(cl_pred, np.round(MID_cl_pred))\n",
    "cl_pred = np.append(cl_pred, np.round(HE_cl_pred_public))\n",
    "cl_pred = np.append(cl_pred, np.round(HE_cl_pred))\n",
    "\n",
    "reg_pred = np.append(LOW_reg_pred_public, LOW_reg_pred)\n",
    "reg_pred = np.append(reg_pred, MID_reg_pred_public)\n",
    "reg_pred = np.append(reg_pred, MID_reg_pred)\n",
    "reg_pred = np.append(reg_pred, HE_reg_pred_public)\n",
    "reg_pred = np.append(reg_pred, HE_reg_pred)\n",
    "\n",
    "im_names = np.append(LOW_im_names_public, LOW_im_names)\n",
    "im_names = np.append(im_names, MID_im_names_public)\n",
    "im_names = np.append(im_names, MID_im_names)\n",
    "im_names = np.append(im_names, HE_im_names_public)\n",
    "im_names = np.append(im_names, HE_im_names)\n",
    "\n",
    "assert(len(im_names) == len(reg_pred))\n",
    "assert(len(im_names) == len(cl_pred))\n",
    "assert(len(im_names) == len(df_private) + len(df_public))\n",
    "\n",
    "generate_submission(cl_pred, reg_pred, im_names, 'pipeline_prediction')"
   ]
  }
 ],
 "metadata": {
  "kernelspec": {
   "display_name": "Python 3",
   "language": "python",
   "name": "python3"
  },
  "language_info": {
   "codemirror_mode": {
    "name": "ipython",
    "version": 3
   },
   "file_extension": ".py",
   "mimetype": "text/x-python",
   "name": "python",
   "nbconvert_exporter": "python",
   "pygments_lexer": "ipython3",
   "version": "3.6.8"
  }
 },
 "nbformat": 4,
 "nbformat_minor": 4
}
